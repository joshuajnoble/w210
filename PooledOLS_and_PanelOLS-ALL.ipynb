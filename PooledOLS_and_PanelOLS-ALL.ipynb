{
 "cells": [
  {
   "cell_type": "code",
   "execution_count": 1,
   "metadata": {},
   "outputs": [],
   "source": [
    "# Import and preprocess data\n",
    "import pandas as pd\n",
    "from linearmodels import PooledOLS\n",
    "import statsmodels.api as sm\n",
    "import numpy as np"
   ]
  },
  {
   "cell_type": "code",
   "execution_count": 2,
   "metadata": {},
   "outputs": [],
   "source": [
    "evictions = pd.read_csv('evictions_ACS_ALL_10_19.csv')\n",
    "#dates = evictions.index.get_level_values('date').to_list()\n",
    "# dataset[‘year’] = pd.Categorical(years)"
   ]
  },
  {
   "cell_type": "code",
   "execution_count": 3,
   "metadata": {},
   "outputs": [],
   "source": [
    "from pandas.tseries.offsets import Week\n",
    "\n",
    "#evictions['week_dt'] = pd.to_datetime(evictions['date']) - pd.to_timedelta(7, unit='d')\n",
    "#evictions['week_dt'] = evictions['week_dt'].where(evictions['week_dt'].dt.weekday == 0, evictions['week_dt'] - Week(weekday=0))\n",
    "#evictions_week_ts = evictions.groupby(['week_dt', 'GEOID']).size().sort_values(ascending=False)"
   ]
  },
  {
   "cell_type": "code",
   "execution_count": 8,
   "metadata": {},
   "outputs": [
    {
     "data": {
      "text/plain": [
       "week_dt     GEOID      \n",
       "2017-10-30  48113018136    2\n",
       "2017-05-29  48113007819    2\n",
       "            48113007826    2\n",
       "            48113007825    2\n",
       "            48113007823    2\n",
       "dtype: int64"
      ]
     },
     "execution_count": 8,
     "metadata": {},
     "output_type": "execute_result"
    }
   ],
   "source": [
    "#evictions_week_ts = evictions_week_ts.sort_values(\"week_dt\")"
   ]
  },
  {
   "cell_type": "code",
   "execution_count": 4,
   "metadata": {},
   "outputs": [],
   "source": [
    "%%capture\n",
    "from statsmodels.tsa.api import ExponentialSmoothing, SimpleExpSmoothing, Holt\n",
    "\n",
    "all_tracts = evictions.GEOID.unique()\n",
    "\n",
    "evictions_by_tract = []\n",
    "\n",
    "for tract in all_tracts:\n",
    "    evictions_by_tract.append(evictions[evictions.GEOID == tract].copy())\n",
    "\n",
    "    \n",
    "for tract_df in evictions_by_tract:\n",
    "    fit1 = SimpleExpSmoothing(tract_df['count'], initialization_method=\"estimated\").fit(smoothing_level=0.1)\n",
    "    tract_df['smoothed'] = fit1.fittedvalues\n",
    "    \n"
   ]
  },
  {
   "cell_type": "code",
   "execution_count": 5,
   "metadata": {},
   "outputs": [
    {
     "name": "stdout",
     "output_type": "stream",
     "text": [
      "522\n",
      "522\n"
     ]
    }
   ],
   "source": [
    "lengths = []\n",
    "\n",
    "for tract_df in evictions_by_tract:\n",
    "    lengths.append(len(tract_df))\n",
    "    \n",
    "print(np.min(lengths))\n",
    "print(np.max(lengths))"
   ]
  },
  {
   "cell_type": "code",
   "execution_count": 6,
   "metadata": {},
   "outputs": [
    {
     "data": {
      "text/html": [
       "<div>\n",
       "<style scoped>\n",
       "    .dataframe tbody tr th:only-of-type {\n",
       "        vertical-align: middle;\n",
       "    }\n",
       "\n",
       "    .dataframe tbody tr th {\n",
       "        vertical-align: top;\n",
       "    }\n",
       "\n",
       "    .dataframe thead th {\n",
       "        text-align: right;\n",
       "    }\n",
       "</style>\n",
       "<table border=\"1\" class=\"dataframe\">\n",
       "  <thead>\n",
       "    <tr style=\"text-align: right;\">\n",
       "      <th></th>\n",
       "      <th>Unnamed: 0</th>\n",
       "      <th>GEOID</th>\n",
       "      <th>count</th>\n",
       "      <th>year</th>\n",
       "      <th>week</th>\n",
       "      <th>week_dt</th>\n",
       "      <th>Geo_GEOID</th>\n",
       "      <th>Geo_NAME</th>\n",
       "      <th>Geo_QName</th>\n",
       "      <th>Geo_STUSAB</th>\n",
       "      <th>...</th>\n",
       "      <th>SE_A11003_004</th>\n",
       "      <th>SE_A11003_005</th>\n",
       "      <th>SE_A11003_006</th>\n",
       "      <th>SE_A11003_007</th>\n",
       "      <th>SE_A11003_008</th>\n",
       "      <th>SE_A11003_009</th>\n",
       "      <th>SE_A11003_010</th>\n",
       "      <th>SE_A11003_011</th>\n",
       "      <th>SE_A11003_012</th>\n",
       "      <th>smoothed</th>\n",
       "    </tr>\n",
       "  </thead>\n",
       "  <tbody>\n",
       "    <tr>\n",
       "      <th>455994</th>\n",
       "      <td>717079</td>\n",
       "      <td>48113000100</td>\n",
       "      <td>0.0</td>\n",
       "      <td>2019</td>\n",
       "      <td>48</td>\n",
       "      <td>2019-12-01</td>\n",
       "      <td>14000US48113000100</td>\n",
       "      <td>Census Tract 1</td>\n",
       "      <td>Census Tract 1, Dallas County, Texas</td>\n",
       "      <td>tx</td>\n",
       "      <td>...</td>\n",
       "      <td>0.0</td>\n",
       "      <td>0.0</td>\n",
       "      <td>0.0</td>\n",
       "      <td>0.0</td>\n",
       "      <td>0.0</td>\n",
       "      <td>0.0</td>\n",
       "      <td>0.0</td>\n",
       "      <td>0.0</td>\n",
       "      <td>0.0</td>\n",
       "      <td>0.116080</td>\n",
       "    </tr>\n",
       "    <tr>\n",
       "      <th>456876</th>\n",
       "      <td>718466</td>\n",
       "      <td>48113000100</td>\n",
       "      <td>0.0</td>\n",
       "      <td>2019</td>\n",
       "      <td>49</td>\n",
       "      <td>2019-12-08</td>\n",
       "      <td>14000US48113000100</td>\n",
       "      <td>Census Tract 1</td>\n",
       "      <td>Census Tract 1, Dallas County, Texas</td>\n",
       "      <td>tx</td>\n",
       "      <td>...</td>\n",
       "      <td>0.0</td>\n",
       "      <td>0.0</td>\n",
       "      <td>0.0</td>\n",
       "      <td>0.0</td>\n",
       "      <td>0.0</td>\n",
       "      <td>0.0</td>\n",
       "      <td>0.0</td>\n",
       "      <td>0.0</td>\n",
       "      <td>0.0</td>\n",
       "      <td>0.104472</td>\n",
       "    </tr>\n",
       "    <tr>\n",
       "      <th>457758</th>\n",
       "      <td>719853</td>\n",
       "      <td>48113000100</td>\n",
       "      <td>0.0</td>\n",
       "      <td>2019</td>\n",
       "      <td>50</td>\n",
       "      <td>2019-12-15</td>\n",
       "      <td>14000US48113000100</td>\n",
       "      <td>Census Tract 1</td>\n",
       "      <td>Census Tract 1, Dallas County, Texas</td>\n",
       "      <td>tx</td>\n",
       "      <td>...</td>\n",
       "      <td>0.0</td>\n",
       "      <td>0.0</td>\n",
       "      <td>0.0</td>\n",
       "      <td>0.0</td>\n",
       "      <td>0.0</td>\n",
       "      <td>0.0</td>\n",
       "      <td>0.0</td>\n",
       "      <td>0.0</td>\n",
       "      <td>0.0</td>\n",
       "      <td>0.094025</td>\n",
       "    </tr>\n",
       "    <tr>\n",
       "      <th>458640</th>\n",
       "      <td>721240</td>\n",
       "      <td>48113000100</td>\n",
       "      <td>0.0</td>\n",
       "      <td>2019</td>\n",
       "      <td>51</td>\n",
       "      <td>2019-12-22</td>\n",
       "      <td>14000US48113000100</td>\n",
       "      <td>Census Tract 1</td>\n",
       "      <td>Census Tract 1, Dallas County, Texas</td>\n",
       "      <td>tx</td>\n",
       "      <td>...</td>\n",
       "      <td>0.0</td>\n",
       "      <td>0.0</td>\n",
       "      <td>0.0</td>\n",
       "      <td>0.0</td>\n",
       "      <td>0.0</td>\n",
       "      <td>0.0</td>\n",
       "      <td>0.0</td>\n",
       "      <td>0.0</td>\n",
       "      <td>0.0</td>\n",
       "      <td>0.084623</td>\n",
       "    </tr>\n",
       "    <tr>\n",
       "      <th>459522</th>\n",
       "      <td>722627</td>\n",
       "      <td>48113000100</td>\n",
       "      <td>0.0</td>\n",
       "      <td>2019</td>\n",
       "      <td>52</td>\n",
       "      <td>2019-12-29</td>\n",
       "      <td>14000US48113000100</td>\n",
       "      <td>Census Tract 1</td>\n",
       "      <td>Census Tract 1, Dallas County, Texas</td>\n",
       "      <td>tx</td>\n",
       "      <td>...</td>\n",
       "      <td>0.0</td>\n",
       "      <td>0.0</td>\n",
       "      <td>0.0</td>\n",
       "      <td>0.0</td>\n",
       "      <td>0.0</td>\n",
       "      <td>0.0</td>\n",
       "      <td>0.0</td>\n",
       "      <td>0.0</td>\n",
       "      <td>0.0</td>\n",
       "      <td>0.076160</td>\n",
       "    </tr>\n",
       "  </tbody>\n",
       "</table>\n",
       "<p>5 rows × 2626 columns</p>\n",
       "</div>"
      ],
      "text/plain": [
       "        Unnamed: 0        GEOID  count  year  week     week_dt  \\\n",
       "455994      717079  48113000100    0.0  2019    48  2019-12-01   \n",
       "456876      718466  48113000100    0.0  2019    49  2019-12-08   \n",
       "457758      719853  48113000100    0.0  2019    50  2019-12-15   \n",
       "458640      721240  48113000100    0.0  2019    51  2019-12-22   \n",
       "459522      722627  48113000100    0.0  2019    52  2019-12-29   \n",
       "\n",
       "                 Geo_GEOID        Geo_NAME  \\\n",
       "455994  14000US48113000100  Census Tract 1   \n",
       "456876  14000US48113000100  Census Tract 1   \n",
       "457758  14000US48113000100  Census Tract 1   \n",
       "458640  14000US48113000100  Census Tract 1   \n",
       "459522  14000US48113000100  Census Tract 1   \n",
       "\n",
       "                                   Geo_QName Geo_STUSAB  ...  SE_A11003_004  \\\n",
       "455994  Census Tract 1, Dallas County, Texas         tx  ...            0.0   \n",
       "456876  Census Tract 1, Dallas County, Texas         tx  ...            0.0   \n",
       "457758  Census Tract 1, Dallas County, Texas         tx  ...            0.0   \n",
       "458640  Census Tract 1, Dallas County, Texas         tx  ...            0.0   \n",
       "459522  Census Tract 1, Dallas County, Texas         tx  ...            0.0   \n",
       "\n",
       "        SE_A11003_005 SE_A11003_006  SE_A11003_007  SE_A11003_008  \\\n",
       "455994            0.0           0.0            0.0            0.0   \n",
       "456876            0.0           0.0            0.0            0.0   \n",
       "457758            0.0           0.0            0.0            0.0   \n",
       "458640            0.0           0.0            0.0            0.0   \n",
       "459522            0.0           0.0            0.0            0.0   \n",
       "\n",
       "        SE_A11003_009  SE_A11003_010  SE_A11003_011  SE_A11003_012  smoothed  \n",
       "455994            0.0            0.0            0.0            0.0  0.116080  \n",
       "456876            0.0            0.0            0.0            0.0  0.104472  \n",
       "457758            0.0            0.0            0.0            0.0  0.094025  \n",
       "458640            0.0            0.0            0.0            0.0  0.084623  \n",
       "459522            0.0            0.0            0.0            0.0  0.076160  \n",
       "\n",
       "[5 rows x 2626 columns]"
      ]
     },
     "execution_count": 6,
     "metadata": {},
     "output_type": "execute_result"
    }
   ],
   "source": [
    "evictions_by_tract[0].tail()"
   ]
  },
  {
   "cell_type": "code",
   "execution_count": 7,
   "metadata": {},
   "outputs": [],
   "source": [
    "all_tracts_multi = pd.concat(evictions_by_tract)\n",
    "all_tracts_multi = all_tracts_multi.set_index(['week_dt', 'GEOID'])"
   ]
  },
  {
   "cell_type": "code",
   "execution_count": 8,
   "metadata": {},
   "outputs": [
    {
     "data": {
      "text/plain": [
       "282018"
      ]
     },
     "execution_count": 8,
     "metadata": {},
     "output_type": "execute_result"
    }
   ],
   "source": [
    "len(all_tracts_multi[all_tracts_multi['count'] == 0]) #lots of zeros"
   ]
  },
  {
   "cell_type": "code",
   "execution_count": 9,
   "metadata": {},
   "outputs": [
    {
     "name": "stderr",
     "output_type": "stream",
     "text": [
      "/Users/joshnoble/opt/anaconda3/lib/python3.8/site-packages/statsmodels/tsa/tsatools.py:142: FutureWarning: In a future version of pandas all arguments of concat except for the argument 'objs' will be keyword-only\n",
      "  x = pd.concat(x[::order], 1)\n",
      "/Users/joshnoble/opt/anaconda3/lib/python3.8/site-packages/linearmodels/panel/results.py:544: FutureWarning: In a future version of pandas all arguments of concat except for the argument 'objs' will be keyword-only\n",
      "  out_df: DataFrame = concat(out, 1)\n"
     ]
    }
   ],
   "source": [
    "# Perform PooledOLS\n",
    "exog = sm.tools.tools.add_constant(all_tracts_multi['SE_A03001_003'])\n",
    "endog = all_tracts_multi['smoothed']\n",
    "mod = PooledOLS(endog, exog)\n",
    "\n",
    "pooledOLS_res = mod.fit(cov_type='clustered', cluster_entity=True)\n",
    "# Store values for checking homoskedasticity graphically\n",
    "fittedvals_pooled_OLS = pooledOLS_res.predict().fitted_values\n",
    "residuals_pooled_OLS = pooledOLS_res.resids"
   ]
  },
  {
   "cell_type": "code",
   "execution_count": 10,
   "metadata": {},
   "outputs": [
    {
     "data": {
      "image/png": "[encoded data removed]",
      "text/plain": [
       "<Figure size 432x288 with 1 Axes>"
      ]
     },
     "metadata": {
      "needs_background": "light"
     },
     "output_type": "display_data"
    }
   ],
   "source": [
    "# 3A. Homoskedasticity\n",
    "import matplotlib.pyplot as plt\n",
    " # 3A.1 Residuals-Plot for growing Variance Detection\n",
    "fig, ax = plt.subplots()\n",
    "ax.scatter(fittedvals_pooled_OLS, residuals_pooled_OLS, color = 'blue')\n",
    "ax.axhline(0, color = 'r', ls = '--')\n",
    "ax.set_xlabel('Predicted Values', fontsize = 12)\n",
    "ax.set_ylabel('Residuals', fontsize = 12)\n",
    "ax.set_title('Homoskedasticity Test', fontsize = 12)\n",
    "plt.show()"
   ]
  },
  {
   "cell_type": "code",
   "execution_count": 11,
   "metadata": {},
   "outputs": [
    {
     "name": "stdout",
     "output_type": "stream",
     "text": [
      "{'LM-Stat': 26978.03966290709, 'LM p-val': 0.0, 'F-Stat': 14328.533100765333, 'F p-val': 0.0}\n",
      "{'LM-Stat': 26245.623783210354, 'LM p-val': 0.0, 'F-Stat': 27832.09617267386, 'F p-val': 0.0}\n"
     ]
    },
    {
     "name": "stderr",
     "output_type": "stream",
     "text": [
      "/Users/joshnoble/opt/anaconda3/lib/python3.8/site-packages/statsmodels/tsa/tsatools.py:142: FutureWarning: In a future version of pandas all arguments of concat except for the argument 'objs' will be keyword-only\n",
      "  x = pd.concat(x[::order], 1)\n"
     ]
    }
   ],
   "source": [
    "# 3A.2 White-Test\n",
    "from statsmodels.stats.diagnostic import het_white, het_breuschpagan\n",
    "pooled_OLS_dataset = pd.concat([all_tracts_multi, residuals_pooled_OLS], axis=1)\n",
    "pooled_OLS_dataset = pooled_OLS_dataset.drop(['year'], axis = 1).fillna(0)\n",
    "exog = sm.tools.tools.add_constant(all_tracts_multi['SE_A03001_003']).fillna(0)\n",
    "white_test_results = het_white(pooled_OLS_dataset['residual'], exog)\n",
    "labels = ['LM-Stat', 'LM p-val', 'F-Stat', 'F p-val'] \n",
    "print(dict(zip(labels, white_test_results)))\n",
    "\n",
    "# 3A.3 Breusch-Pagan-Test\n",
    "breusch_pagan_test_results = het_breuschpagan(pooled_OLS_dataset['residual'], exog)\n",
    "labels = ['LM-Stat', 'LM p-val', 'F-Stat', 'F p-val'] \n",
    "print(dict(zip(labels, breusch_pagan_test_results)))"
   ]
  },
  {
   "cell_type": "code",
   "execution_count": 12,
   "metadata": {},
   "outputs": [
    {
     "name": "stdout",
     "output_type": "stream",
     "text": [
      "0.034053773625384275\n"
     ]
    }
   ],
   "source": [
    "# 3.B Non-Autocorrelation\n",
    "# Durbin-Watson-Test\n",
    "from statsmodels.stats.stattools import durbin_watson\n",
    "\n",
    "durbin_watson_test_results = durbin_watson(pooled_OLS_dataset['residual']) \n",
    "print(durbin_watson_test_results)"
   ]
  },
  {
   "cell_type": "code",
   "execution_count": 13,
   "metadata": {},
   "outputs": [
    {
     "name": "stdout",
     "output_type": "stream",
     "text": [
      "                        RandomEffects Estimation Summary                        \n",
      "================================================================================\n",
      "Dep. Variable:               smoothed   R-squared:                        0.2147\n",
      "Estimator:              RandomEffects   R-squared (Between):             -0.1172\n",
      "No. Observations:              460404   R-squared (Within):               0.2150\n",
      "Date:                Wed, Nov 10 2021   R-squared (Overall):              0.2110\n",
      "Time:                        20:46:48   Log-likelihood                -7.414e+05\n",
      "Cov. Estimator:            Unadjusted                                           \n",
      "                                        F-statistic:                   1.258e+05\n",
      "Entities:                         522   P-value                           0.0000\n",
      "Avg Obs:                       882.00   Distribution:                F(1,460402)\n",
      "Min Obs:                       882.00                                           \n",
      "Max Obs:                       882.00   F-statistic (robust):          1.258e+05\n",
      "                                        P-value                           0.0000\n",
      "Time periods:                     882   Distribution:                F(1,460402)\n",
      "Avg Obs:                       522.00                                           \n",
      "Min Obs:                       522.00                                           \n",
      "Max Obs:                       522.00                                           \n",
      "                                                                                \n",
      "                               Parameter Estimates                               \n",
      "=================================================================================\n",
      "               Parameter  Std. Err.     T-stat    P-value    Lower CI    Upper CI\n",
      "---------------------------------------------------------------------------------\n",
      "const             0.5303     0.0061     87.589     0.0000      0.5185      0.5422\n",
      "SE_A03001_003     0.0005  1.524e-06     354.75     0.0000      0.0005      0.0005\n",
      "=================================================================================\n",
      "                          PanelOLS Estimation Summary                           \n",
      "================================================================================\n",
      "Dep. Variable:               smoothed   R-squared:                        0.2150\n",
      "Estimator:                   PanelOLS   R-squared (Between):             -0.1172\n",
      "No. Observations:              460404   R-squared (Within):               0.2150\n",
      "Date:                Wed, Nov 10 2021   R-squared (Overall):              0.2110\n",
      "Time:                        20:46:49   Log-likelihood                -7.411e+05\n",
      "Cov. Estimator:             Clustered                                           \n",
      "                                        F-statistic:                    1.26e+05\n",
      "Entities:                         522   P-value                           0.0000\n",
      "Avg Obs:                       882.00   Distribution:                F(1,459881)\n",
      "Min Obs:                       882.00                                           \n",
      "Max Obs:                       882.00   F-statistic (robust):          2.311e+04\n",
      "                                        P-value                           0.0000\n",
      "Time periods:                     882   Distribution:                F(1,459881)\n",
      "Avg Obs:                       522.00                                           \n",
      "Min Obs:                       522.00                                           \n",
      "Max Obs:                       522.00                                           \n",
      "                                                                                \n",
      "                               Parameter Estimates                               \n",
      "=================================================================================\n",
      "               Parameter  Std. Err.     T-stat    P-value    Lower CI    Upper CI\n",
      "---------------------------------------------------------------------------------\n",
      "const             0.5302     0.0035     151.55     0.0000      0.5233      0.5370\n",
      "SE_A03001_003     0.0005  3.558e-06     152.02     0.0000      0.0005      0.0005\n",
      "=================================================================================\n",
      "\n",
      "F-test for Poolability: 15.348\n",
      "P-value: 0.0000\n",
      "Distribution: F(521,459881)\n",
      "\n",
      "Included effects: Entity\n"
     ]
    }
   ],
   "source": [
    "from linearmodels import PanelOLS\n",
    "from linearmodels import RandomEffects\n",
    "exog = sm.tools.tools.add_constant(all_tracts_multi['SE_A03001_003'])\n",
    "endog = all_tracts_multi['smoothed']\n",
    "# random effects model\n",
    "model_re = RandomEffects(endog, exog) \n",
    "re_res = model_re.fit() \n",
    "# fixed effects model\n",
    "model_fe = PanelOLS(endog, exog, entity_effects = True) \n",
    "fe_res = model_fe.fit(cov_type='clustered', cluster_entity=True) \n",
    "#print results\n",
    "print(re_res)\n",
    "print(fe_res)"
   ]
  },
  {
   "cell_type": "code",
   "execution_count": 160,
   "metadata": {},
   "outputs": [],
   "source": [
    "\n",
    "# make our formula:\n",
    "\n",
    "formula = 'smoothed ~ SE_A03001_003 + SE_A06001_005 + SE_A08002B_003 + SE_A10039B_009 + SE_B18002_003 + SE_B18002_002 + SE_A10011_003'\n",
    "\n",
    "\n",
    "# Perform PooledOLS\n",
    "mod2 = PooledOLS.from_formula(formula, all_tracts_multi)\n",
    "\n",
    "pooledOLS_res2 = mod2.fit(cov_type='clustered', cluster_entity=True)\n",
    "# Store values for checking homoskedasticity graphically\n",
    "fittedvals_pooled_OLS2 = pooledOLS_res2.predict().fitted_values\n",
    "residuals_pooled_OLS2 = pooledOLS_res2.resids"
   ]
  },
  {
   "cell_type": "code",
   "execution_count": 161,
   "metadata": {
    "scrolled": true
   },
   "outputs": [
    {
     "data": {
      "image/png": "[encoded data removed]",
      "text/plain": [
       "<Figure size 432x288 with 1 Axes>"
      ]
     },
     "metadata": {
      "needs_background": "light"
     },
     "output_type": "display_data"
    }
   ],
   "source": [
    "# 3A. Homoskedasticity\n",
    "import matplotlib.pyplot as plt\n",
    " # 3A.1 Residuals-Plot for growing Variance Detection\n",
    "fig, ax = plt.subplots()\n",
    "ax.scatter(fittedvals_pooled_OLS2, residuals_pooled_OLS2, color = 'blue')\n",
    "ax.axhline(0, color = 'r', ls = '--')\n",
    "ax.set_xlabel('Predicted Values', fontsize = 12)\n",
    "ax.set_ylabel('Residuals', fontsize = 12)\n",
    "ax.set_title('Homoskedasticity Test', fontsize = 12)\n",
    "plt.show()"
   ]
  },
  {
   "cell_type": "code",
   "execution_count": 162,
   "metadata": {},
   "outputs": [
    {
     "name": "stdout",
     "output_type": "stream",
     "text": [
      "{'LM-Stat': 20148.36779910611, 'LM p-val': 0.0, 'F-Stat': 21070.369469370347, 'F p-val': 0.0}\n"
     ]
    }
   ],
   "source": [
    "# 3A.2 White-Test\n",
    "from statsmodels.stats.diagnostic import het_white, het_breuschpagan\n",
    "pooled_OLS_dataset2 = pd.concat([all_tracts_multi, residuals_pooled_OLS2], axis=1)\n",
    "pooled_OLS_dataset2 = pooled_OLS_dataset2.drop(['year'], axis = 1).fillna(0)\n",
    "\n",
    "# white_test_results = het_white(pooledOLS_res2.resids, pooledOLS_res2.model.exog)\n",
    "# labels = ['LM-Stat', 'LM p-val', 'F-Stat', 'F p-val'] \n",
    "# print(dict(zip(labels, white_test_results)))\n",
    "\n",
    "# 3A.3 Breusch-Pagan-Test\n",
    "breusch_pagan_test_results = het_breuschpagan(pooled_OLS_dataset2['residual'], exog)\n",
    "labels = ['LM-Stat', 'LM p-val', 'F-Stat', 'F p-val'] \n",
    "print(dict(zip(labels, breusch_pagan_test_results)))"
   ]
  },
  {
   "cell_type": "code",
   "execution_count": 163,
   "metadata": {},
   "outputs": [
    {
     "name": "stdout",
     "output_type": "stream",
     "text": [
      "0.04865240890177004\n"
     ]
    }
   ],
   "source": [
    "# 3.B Non-Autocorrelation\n",
    "# Durbin-Watson-Test\n",
    "from statsmodels.stats.stattools import durbin_watson\n",
    "\n",
    "durbin_watson_test_results = durbin_watson(pooled_OLS_dataset2['residual']) \n",
    "print(durbin_watson_test_results)"
   ]
  },
  {
   "cell_type": "code",
   "execution_count": 34,
   "metadata": {},
   "outputs": [
    {
     "name": "stdout",
     "output_type": "stream",
     "text": [
      "                          PanelOLS Estimation Summary                           \n",
      "================================================================================\n",
      "Dep. Variable:                  count   R-squared:                        0.2924\n",
      "Estimator:                   PanelOLS   R-squared (Between):              0.8123\n",
      "No. Observations:              460404   R-squared (Within):               0.1653\n",
      "Date:                Wed, Nov 10 2021   R-squared (Overall):              0.2924\n",
      "Time:                        21:31:35   Log-likelihood                -1.026e+06\n",
      "Cov. Estimator:             Clustered                                           \n",
      "                                        F-statistic:                   1.464e+04\n",
      "Entities:                         522   P-value                           0.0000\n",
      "Avg Obs:                       882.00   Distribution:               F(13,460391)\n",
      "Min Obs:                       882.00                                           \n",
      "Max Obs:                       882.00   F-statistic (robust):             381.84\n",
      "                                        P-value                           0.0000\n",
      "Time periods:                     882   Distribution:               F(13,460391)\n",
      "Avg Obs:                       522.00                                           \n",
      "Min Obs:                       522.00                                           \n",
      "Max Obs:                       522.00                                           \n",
      "                                                                                \n",
      "                               Parameter Estimates                                \n",
      "==================================================================================\n",
      "                Parameter  Std. Err.     T-stat    P-value    Lower CI    Upper CI\n",
      "----------------------------------------------------------------------------------\n",
      "SE_A10028_006      0.0019     0.0004     4.6061     0.0000      0.0011      0.0027\n",
      "SE_A10005B_002     0.0015  7.181e-05     20.823     0.0000      0.0014      0.0016\n",
      "SE_B18002_003     -0.0014     0.0002    -9.0270     0.0000     -0.0017     -0.0011\n",
      "SE_A13002_003      0.0013     0.0002     7.1705     0.0000      0.0009      0.0017\n",
      "SE_B13004_002     -0.0002  2.297e-05    -9.3242     0.0000     -0.0003     -0.0002\n",
      "SE_A03001_003      0.0003  8.294e-06     37.431     0.0000      0.0003      0.0003\n",
      "SE_A06001_005     -0.0005  1.532e-05    -29.550     0.0000     -0.0005     -0.0004\n",
      "SE_A08002B_003     0.0003  2.346e-05     14.268     0.0000      0.0003      0.0004\n",
      "SE_A10039B_009     0.0030     0.0001     22.463     0.0000      0.0028      0.0033\n",
      "SE_B18002_002      0.0009     0.0002     4.6591     0.0000      0.0005      0.0013\n",
      "SE_A14028_001     -0.0722     0.0231    -3.1234     0.0018     -0.1175     -0.0269\n",
      "SE_A10011_003     -0.0003  3.078e-05    -9.6437     0.0000     -0.0004     -0.0002\n",
      "SE_A10039B_005     0.0027  9.086e-05     30.234     0.0000      0.0026      0.0029\n",
      "==================================================================================\n",
      "\n",
      "\n"
     ]
    }
   ],
   "source": [
    "# random effects model\n",
    "\n",
    "'''\n",
    "\n",
    "\n",
    "acs.demo.lm <- lm(cleaned_data$eviction_rate ~\n",
    "                   as.numeric(cleaned_data$tract_hisp) + \n",
    "                   as.numeric( cleaned_data$SE_A13002_003 ) + #census tract black pct\n",
    "                   as.numeric( cleaned_data$SE_A10010_003 ) + \n",
    "                   as.numeric( cleaned_data$SE_A01002A_003 ) +\n",
    "                   as.numeric( cleaned_data$rent30_49pct) +\n",
    "                   as.numeric( cleaned_data$pct_income_rent) + \n",
    "                   as.numeric( cleaned_data$under_povertyX2) + \n",
    "                   as.numeric( cleaned_data$rent50pct) +\n",
    "                   as.numeric( cleaned_data$income_20_34k_30pct_to_housing) +\n",
    "                   as.numeric( cleaned_data$no_earnings) + \n",
    "                   as.numeric( cleaned_data$SE_A10004B_012) + \n",
    "                   as.numeric( cleaned_data$SE_A10005B_002) +\n",
    "                   as.numeric(cleaned_data$SE_A14028_001) + \n",
    "                   as.numeric(cleaned_data$SE_A10039B_005)\n",
    "\n",
    "'''\n",
    "\n",
    "\n",
    "\n",
    "formula = 'count ~ SE_A10028_006 + SE_A10005B_002 + SE_B18002_003 + SE_A13002_003 + SE_B13004_002 + SE_A03001_003 + SE_A06001_005 + SE_A08002B_003 + SE_A10039B_009 + SE_B18002_003 + SE_B18002_002 + SE_A14028_001 + SE_A10011_003 + SE_A10039B_005'\n",
    "\n",
    "model2_re = PanelOLS.from_formula(formula, data=all_tracts_multi) \n",
    "re_res2 = model2_re.fit(cov_type='clustered', cluster_entity=True) \n",
    "#print results\n",
    "print(re_res2)"
   ]
  },
  {
   "cell_type": "code",
   "execution_count": 35,
   "metadata": {},
   "outputs": [
    {
     "name": "stdout",
     "output_type": "stream",
     "text": [
      "                          PanelOLS Estimation Summary                           \n",
      "================================================================================\n",
      "Dep. Variable:                  count   R-squared:                        0.1661\n",
      "Estimator:                   PanelOLS   R-squared (Between):              0.7109\n",
      "No. Observations:              460404   R-squared (Within):               0.1661\n",
      "Date:                Wed, Nov 10 2021   R-squared (Overall):              0.2731\n",
      "Time:                        21:31:42   Log-likelihood                -1.014e+06\n",
      "Cov. Estimator:            Unadjusted                                           \n",
      "                                        F-statistic:                      7043.5\n",
      "Entities:                         522   P-value                           0.0000\n",
      "Avg Obs:                       882.00   Distribution:               F(13,459869)\n",
      "Min Obs:                       882.00                                           \n",
      "Max Obs:                       882.00   F-statistic (robust):             7043.5\n",
      "                                        P-value                           0.0000\n",
      "Time periods:                     882   Distribution:               F(13,459869)\n",
      "Avg Obs:                       522.00                                           \n",
      "Min Obs:                       522.00                                           \n",
      "Max Obs:                       522.00                                           \n",
      "                                                                                \n",
      "                               Parameter Estimates                                \n",
      "==================================================================================\n",
      "                Parameter  Std. Err.     T-stat    P-value    Lower CI    Upper CI\n",
      "----------------------------------------------------------------------------------\n",
      "SE_A10028_006      0.0019     0.0002     9.5333     0.0000      0.0015      0.0023\n",
      "SE_A10005B_002     0.0015  3.528e-05     42.569     0.0000      0.0014      0.0016\n",
      "SE_B18002_003     -0.0009    6.9e-05    -12.996     0.0000     -0.0010     -0.0008\n",
      "SE_A13002_003      0.0011     0.0001     9.5483     0.0000      0.0009      0.0013\n",
      "SE_B13004_002     -0.0002  1.167e-05    -16.479     0.0000     -0.0002     -0.0002\n",
      "SE_A03001_003      0.0003  3.823e-06     76.208     0.0000      0.0003      0.0003\n",
      "SE_A06001_005     -0.0005  9.293e-06    -52.428     0.0000     -0.0005     -0.0005\n",
      "SE_A08002B_003     0.0003  1.514e-05     18.164     0.0000      0.0002      0.0003\n",
      "SE_A10039B_009     0.0029  5.047e-05     57.424     0.0000      0.0028      0.0030\n",
      "SE_B18002_002      0.0012  6.039e-05     19.406     0.0000      0.0011      0.0013\n",
      "SE_A14028_001     -0.8941     0.0580    -15.405     0.0000     -1.0079     -0.7804\n",
      "SE_A10011_003     -0.0003  2.716e-05    -10.291     0.0000     -0.0003     -0.0002\n",
      "SE_A10039B_005     0.0028  4.305e-05     66.043     0.0000      0.0028      0.0029\n",
      "==================================================================================\n",
      "\n",
      "F-test for Poolability: 48.834\n",
      "P-value: 0.0000\n",
      "Distribution: F(521,459869)\n",
      "\n",
      "Included effects: Entity\n"
     ]
    }
   ],
   "source": [
    "#fixed effects entity_effects = True\n",
    "model2_fe = PanelOLS.from_formula(formula + \" + EntityEffects\", data=all_tracts_multi) \n",
    "fe_res = model2_fe.fit() \n",
    "#print results\n",
    "print(fe_res)"
   ]
  },
  {
   "cell_type": "code",
   "execution_count": 36,
   "metadata": {},
   "outputs": [
    {
     "name": "stdout",
     "output_type": "stream",
     "text": [
      "                          PanelOLS Estimation Summary                           \n",
      "================================================================================\n",
      "Dep. Variable:                  count   R-squared:                        0.0016\n",
      "Estimator:                   PanelOLS   R-squared (Between):              0.1043\n",
      "No. Observations:              460404   R-squared (Within):               0.0340\n",
      "Date:                Wed, Nov 10 2021   R-squared (Overall):              0.0478\n",
      "Time:                        21:34:57   Log-likelihood                -9.855e+05\n",
      "Cov. Estimator:            Unadjusted                                           \n",
      "                                        F-statistic:                      57.191\n",
      "Entities:                         522   P-value                           0.0000\n",
      "Avg Obs:                       882.00   Distribution:               F(13,458988)\n",
      "Min Obs:                       882.00                                           \n",
      "Max Obs:                       882.00   F-statistic (robust):             57.191\n",
      "                                        P-value                           0.0000\n",
      "Time periods:                     882   Distribution:               F(13,458988)\n",
      "Avg Obs:                       522.00                                           \n",
      "Min Obs:                       522.00                                           \n",
      "Max Obs:                       522.00                                           \n",
      "                                                                                \n",
      "                               Parameter Estimates                                \n",
      "==================================================================================\n",
      "                Parameter  Std. Err.     T-stat    P-value    Lower CI    Upper CI\n",
      "----------------------------------------------------------------------------------\n",
      "SE_A10028_006      0.0039     0.0003     14.123     0.0000      0.0034      0.0045\n",
      "SE_A10005B_002   3.47e-05  6.116e-05     0.5673     0.5705  -8.518e-05      0.0002\n",
      "SE_B18002_003     -0.0003  7.245e-05    -3.7236     0.0002     -0.0004     -0.0001\n",
      "SE_A13002_003      0.0005     0.0001     3.2214     0.0013      0.0002      0.0008\n",
      "SE_B13004_002   4.276e-05  2.045e-05     2.0905     0.0366    2.67e-06   8.284e-05\n",
      "SE_A03001_003   9.465e-05  1.698e-05     5.5754     0.0000   6.137e-05      0.0001\n",
      "SE_A06001_005     -0.0003  1.892e-05    -15.552     0.0000     -0.0003     -0.0003\n",
      "SE_A08002B_003 -1.044e-05   2.16e-05    -0.4834     0.6288  -5.277e-05   3.189e-05\n",
      "SE_A10039B_009  4.676e-05  7.558e-05     0.6188     0.5361     -0.0001      0.0002\n",
      "SE_B18002_002      0.0007  6.431e-05     11.600     0.0000      0.0006      0.0009\n",
      "SE_A14028_001      0.1315     0.1018     1.2920     0.1964     -0.0680      0.3311\n",
      "SE_A10011_003  -2.927e-05  6.472e-05    -0.4523     0.6510     -0.0002   9.758e-05\n",
      "SE_A10039B_005     0.0002  7.589e-05     3.2577     0.0011   9.849e-05      0.0004\n",
      "==================================================================================\n",
      "\n",
      "F-test for Poolability: 63.283\n",
      "P-value: 0.0000\n",
      "Distribution: F(1402,458988)\n",
      "\n",
      "Included effects: Entity, Time\n"
     ]
    }
   ],
   "source": [
    "#fixed effects entity_effects = True\n",
    "model2_te = PanelOLS.from_formula(formula + \" + EntityEffects + TimeEffects\", data=all_tracts_multi) \n",
    "te_res = model2_te.fit() \n",
    "#print results\n",
    "print(te_res)"
   ]
  },
  {
   "cell_type": "code",
   "execution_count": 37,
   "metadata": {},
   "outputs": [
    {
     "name": "stdout",
     "output_type": "stream",
     "text": [
      "                         BetweenOLS Estimation Summary                          \n",
      "================================================================================\n",
      "Dep. Variable:                  count   R-squared:                        0.8209\n",
      "Estimator:                 BetweenOLS   R-squared (Between):              0.8209\n",
      "No. Observations:                 522   R-squared (Within):              -254.87\n",
      "Date:                Wed, Nov 10 2021   R-squared (Overall):             -204.65\n",
      "Time:                        21:46:55   Log-likelihood                   -380.24\n",
      "Cov. Estimator:            Unadjusted                                           \n",
      "                                        F-statistic:                      179.49\n",
      "Entities:                         522   P-value                           0.0000\n",
      "Avg Obs:                       882.00   Distribution:                  F(13,509)\n",
      "Min Obs:                       882.00                                           \n",
      "Max Obs:                       882.00   F-statistic (robust):             303.25\n",
      "                                        P-value                           0.0000\n",
      "Time periods:                     882   Distribution:                  F(13,509)\n",
      "Avg Obs:                       522.00                                           \n",
      "Min Obs:                       522.00                                           \n",
      "Max Obs:                       522.00                                           \n",
      "                                                                                \n",
      "                               Parameter Estimates                                \n",
      "==================================================================================\n",
      "                Parameter  Std. Err.     T-stat    P-value    Lower CI    Upper CI\n",
      "----------------------------------------------------------------------------------\n",
      "SE_A10028_006     -0.0119     5825.1 -2.038e-06     1.0000  -1.144e+04   1.144e+04\n",
      "SE_A10005B_002     0.0299                                                         \n",
      "SE_B18002_003      0.0035     1044.7  3.325e-06     1.0000     -2052.5      2052.5\n",
      "SE_A13002_003     -0.0643  1.472e+04 -4.368e-06     1.0000  -2.892e+04   2.892e+04\n",
      "SE_B13004_002      0.0277                                                         \n",
      "SE_A03001_003     -0.0152     473.57 -3.209e-05     1.0000     -930.42      930.39\n",
      "SE_A06001_005      0.0328     900.92  3.636e-05     1.0000     -1769.9      1770.0\n",
      "SE_A08002B_003     0.0056     1620.0  3.481e-06     1.0000     -3182.6      3182.7\n",
      "SE_A10039B_009    -0.0671     3002.4 -2.236e-05     1.0000     -5898.7      5898.5\n",
      "SE_B18002_002     -0.0049     985.01 -5.002e-06     1.0000     -1935.2      1935.2\n",
      "SE_A14028_001     -0.0007  6.054e+05 -1.162e-09     1.0000  -1.189e+06   1.189e+06\n",
      "SE_A10011_003     -0.0828                                                         \n",
      "SE_A10039B_005    -0.0796                                                         \n",
      "==================================================================================\n"
     ]
    },
    {
     "name": "stderr",
     "output_type": "stream",
     "text": [
      "/Users/joshnoble/opt/anaconda3/lib/python3.8/site-packages/linearmodels/panel/results.py:85: RuntimeWarning: invalid value encountered in sqrt\n",
      "  return Series(np.sqrt(np.diag(self.cov)), self._var_names, name=\"std_error\")\n"
     ]
    }
   ],
   "source": [
    "from linearmodels import BetweenOLS, FirstDifferenceOLS, PooledOLS\n",
    "\n",
    "mod_btwn = BetweenOLS.from_formula(formula, data=all_tracts_multi)\n",
    "print(mod_btwn.fit())"
   ]
  },
  {
   "cell_type": "code",
   "execution_count": null,
   "metadata": {},
   "outputs": [],
   "source": [
    "#mod_fd = FirstDifferenceOLS.from_formula(formula + \" + EntityEffects\", data=all_tracts_multi)\n",
    "#print(mod_fd.fit())"
   ]
  }
 ],
 "metadata": {
  "kernelspec": {
   "display_name": "Python 3 (ipykernel)",
   "language": "python",
   "name": "python3"
  },
  "language_info": {
   "codemirror_mode": {
    "name": "ipython",
    "version": 3
   },
   "file_extension": ".py",
   "mimetype": "text/x-python",
   "name": "python",
   "nbconvert_exporter": "python",
   "pygments_lexer": "ipython3",
   "version": "3.8.3"
  }
 },
 "nbformat": 4,
 "nbformat_minor": 4
}
