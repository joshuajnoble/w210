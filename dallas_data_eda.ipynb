{
 "cells": [
  {
   "cell_type": "code",
   "execution_count": 15,
   "metadata": {},
   "outputs": [],
   "source": [
    "import pandas as pd\n",
    "import numpy as np"
   ]
  },
  {
   "cell_type": "code",
   "execution_count": 98,
   "metadata": {},
   "outputs": [],
   "source": [
    "dallas = pd.read_csv(\"/Users/joshnoble/projects/w210/evictions/NTEP_eviction_cases.csv\", low_memory=False)"
   ]
  },
  {
   "cell_type": "code",
   "execution_count": 86,
   "metadata": {},
   "outputs": [
    {
     "data": {
      "text/html": [
       "<div>\n",
       "<style scoped>\n",
       "    .dataframe tbody tr th:only-of-type {\n",
       "        vertical-align: middle;\n",
       "    }\n",
       "\n",
       "    .dataframe tbody tr th {\n",
       "        vertical-align: top;\n",
       "    }\n",
       "\n",
       "    .dataframe thead th {\n",
       "        text-align: right;\n",
       "    }\n",
       "</style>\n",
       "<table border=\"1\" class=\"dataframe\">\n",
       "  <thead>\n",
       "    <tr style=\"text-align: right;\">\n",
       "      <th></th>\n",
       "      <th>case_number</th>\n",
       "      <th>date</th>\n",
       "      <th>amount</th>\n",
       "      <th>precinct_id</th>\n",
       "      <th>council_id</th>\n",
       "      <th>tract_id</th>\n",
       "      <th>zip_id</th>\n",
       "      <th>city_id</th>\n",
       "      <th>county_id</th>\n",
       "      <th>lon</th>\n",
       "      <th>lat</th>\n",
       "    </tr>\n",
       "  </thead>\n",
       "  <tbody>\n",
       "    <tr>\n",
       "      <th>0</th>\n",
       "      <td>1804351H</td>\n",
       "      <td>2018-07-10</td>\n",
       "      <td>1590.0</td>\n",
       "      <td>48113-1-1</td>\n",
       "      <td>4819000-07</td>\n",
       "      <td>4.811300e+10</td>\n",
       "      <td>75215.0</td>\n",
       "      <td>4819000.0</td>\n",
       "      <td>48113</td>\n",
       "      <td>-96.780003</td>\n",
       "      <td>32.762274</td>\n",
       "    </tr>\n",
       "    <tr>\n",
       "      <th>1</th>\n",
       "      <td>1804378H</td>\n",
       "      <td>2018-07-10</td>\n",
       "      <td>1217.0</td>\n",
       "      <td>48113-1-1</td>\n",
       "      <td>4819000-07</td>\n",
       "      <td>4.811300e+10</td>\n",
       "      <td>75215.0</td>\n",
       "      <td>4819000.0</td>\n",
       "      <td>48113</td>\n",
       "      <td>-96.757373</td>\n",
       "      <td>32.767008</td>\n",
       "    </tr>\n",
       "    <tr>\n",
       "      <th>2</th>\n",
       "      <td>1804374H</td>\n",
       "      <td>2018-07-10</td>\n",
       "      <td>0.0</td>\n",
       "      <td>48113-1-1</td>\n",
       "      <td>4819000-07</td>\n",
       "      <td>4.811300e+10</td>\n",
       "      <td>75210.0</td>\n",
       "      <td>4819000.0</td>\n",
       "      <td>48113</td>\n",
       "      <td>-96.743293</td>\n",
       "      <td>32.775399</td>\n",
       "    </tr>\n",
       "    <tr>\n",
       "      <th>3</th>\n",
       "      <td>1804376H</td>\n",
       "      <td>2018-07-10</td>\n",
       "      <td>700.0</td>\n",
       "      <td>48113-1-1</td>\n",
       "      <td>4819000-07</td>\n",
       "      <td>4.811300e+10</td>\n",
       "      <td>75210.0</td>\n",
       "      <td>4819000.0</td>\n",
       "      <td>48113</td>\n",
       "      <td>-96.743307</td>\n",
       "      <td>32.775385</td>\n",
       "    </tr>\n",
       "    <tr>\n",
       "      <th>4</th>\n",
       "      <td>1804375H</td>\n",
       "      <td>2018-07-10</td>\n",
       "      <td>700.0</td>\n",
       "      <td>48113-1-1</td>\n",
       "      <td>4819000-07</td>\n",
       "      <td>4.811300e+10</td>\n",
       "      <td>75210.0</td>\n",
       "      <td>4819000.0</td>\n",
       "      <td>48113</td>\n",
       "      <td>-96.742441</td>\n",
       "      <td>32.776028</td>\n",
       "    </tr>\n",
       "  </tbody>\n",
       "</table>\n",
       "</div>"
      ],
      "text/plain": [
       "  case_number        date  amount precinct_id  council_id      tract_id  \\\n",
       "0    1804351H  2018-07-10  1590.0   48113-1-1  4819000-07  4.811300e+10   \n",
       "1    1804378H  2018-07-10  1217.0   48113-1-1  4819000-07  4.811300e+10   \n",
       "2    1804374H  2018-07-10     0.0   48113-1-1  4819000-07  4.811300e+10   \n",
       "3    1804376H  2018-07-10   700.0   48113-1-1  4819000-07  4.811300e+10   \n",
       "4    1804375H  2018-07-10   700.0   48113-1-1  4819000-07  4.811300e+10   \n",
       "\n",
       "    zip_id    city_id  county_id        lon        lat  \n",
       "0  75215.0  4819000.0      48113 -96.780003  32.762274  \n",
       "1  75215.0  4819000.0      48113 -96.757373  32.767008  \n",
       "2  75210.0  4819000.0      48113 -96.743293  32.775399  \n",
       "3  75210.0  4819000.0      48113 -96.743307  32.775385  \n",
       "4  75210.0  4819000.0      48113 -96.742441  32.776028  "
      ]
     },
     "execution_count": 86,
     "metadata": {},
     "output_type": "execute_result"
    }
   ],
   "source": [
    "dallas.head()"
   ]
  },
  {
   "cell_type": "code",
   "execution_count": 99,
   "metadata": {},
   "outputs": [],
   "source": [
    "dallas = dallas[(dallas['amount'] > 0) & (dallas['date'].notna()) & (dallas['tract_id'].notna())]\n",
    "\n",
    "dallas['tract_id'] = dallas['tract_id'].astype(np.int64)"
   ]
  },
  {
   "cell_type": "code",
   "execution_count": 88,
   "metadata": {},
   "outputs": [
    {
     "data": {
      "text/html": [
       "<div>\n",
       "<style scoped>\n",
       "    .dataframe tbody tr th:only-of-type {\n",
       "        vertical-align: middle;\n",
       "    }\n",
       "\n",
       "    .dataframe tbody tr th {\n",
       "        vertical-align: top;\n",
       "    }\n",
       "\n",
       "    .dataframe thead th {\n",
       "        text-align: right;\n",
       "    }\n",
       "</style>\n",
       "<table border=\"1\" class=\"dataframe\">\n",
       "  <thead>\n",
       "    <tr style=\"text-align: right;\">\n",
       "      <th></th>\n",
       "      <th>case_number</th>\n",
       "      <th>date</th>\n",
       "      <th>amount</th>\n",
       "      <th>precinct_id</th>\n",
       "      <th>council_id</th>\n",
       "      <th>tract_id</th>\n",
       "      <th>zip_id</th>\n",
       "      <th>city_id</th>\n",
       "      <th>county_id</th>\n",
       "      <th>lon</th>\n",
       "      <th>lat</th>\n",
       "    </tr>\n",
       "  </thead>\n",
       "  <tbody>\n",
       "    <tr>\n",
       "      <th>0</th>\n",
       "      <td>1804351H</td>\n",
       "      <td>2018-07-10</td>\n",
       "      <td>1590.0</td>\n",
       "      <td>48113-1-1</td>\n",
       "      <td>4819000-07</td>\n",
       "      <td>48113003400</td>\n",
       "      <td>75215.0</td>\n",
       "      <td>4819000.0</td>\n",
       "      <td>48113</td>\n",
       "      <td>-96.780003</td>\n",
       "      <td>32.762274</td>\n",
       "    </tr>\n",
       "    <tr>\n",
       "      <th>1</th>\n",
       "      <td>1804378H</td>\n",
       "      <td>2018-07-10</td>\n",
       "      <td>1217.0</td>\n",
       "      <td>48113-1-1</td>\n",
       "      <td>4819000-07</td>\n",
       "      <td>48113003700</td>\n",
       "      <td>75215.0</td>\n",
       "      <td>4819000.0</td>\n",
       "      <td>48113</td>\n",
       "      <td>-96.757373</td>\n",
       "      <td>32.767008</td>\n",
       "    </tr>\n",
       "    <tr>\n",
       "      <th>3</th>\n",
       "      <td>1804376H</td>\n",
       "      <td>2018-07-10</td>\n",
       "      <td>700.0</td>\n",
       "      <td>48113-1-1</td>\n",
       "      <td>4819000-07</td>\n",
       "      <td>48113002701</td>\n",
       "      <td>75210.0</td>\n",
       "      <td>4819000.0</td>\n",
       "      <td>48113</td>\n",
       "      <td>-96.743307</td>\n",
       "      <td>32.775385</td>\n",
       "    </tr>\n",
       "    <tr>\n",
       "      <th>4</th>\n",
       "      <td>1804375H</td>\n",
       "      <td>2018-07-10</td>\n",
       "      <td>700.0</td>\n",
       "      <td>48113-1-1</td>\n",
       "      <td>4819000-07</td>\n",
       "      <td>48113002701</td>\n",
       "      <td>75210.0</td>\n",
       "      <td>4819000.0</td>\n",
       "      <td>48113</td>\n",
       "      <td>-96.742441</td>\n",
       "      <td>32.776028</td>\n",
       "    </tr>\n",
       "    <tr>\n",
       "      <th>5</th>\n",
       "      <td>1804377H</td>\n",
       "      <td>2018-07-10</td>\n",
       "      <td>656.0</td>\n",
       "      <td>48113-1-1</td>\n",
       "      <td>4819000-14</td>\n",
       "      <td>48113003101</td>\n",
       "      <td>75201.0</td>\n",
       "      <td>4819000.0</td>\n",
       "      <td>48113</td>\n",
       "      <td>-96.798797</td>\n",
       "      <td>32.781548</td>\n",
       "    </tr>\n",
       "  </tbody>\n",
       "</table>\n",
       "</div>"
      ],
      "text/plain": [
       "  case_number        date  amount precinct_id  council_id     tract_id  \\\n",
       "0    1804351H  2018-07-10  1590.0   48113-1-1  4819000-07  48113003400   \n",
       "1    1804378H  2018-07-10  1217.0   48113-1-1  4819000-07  48113003700   \n",
       "3    1804376H  2018-07-10   700.0   48113-1-1  4819000-07  48113002701   \n",
       "4    1804375H  2018-07-10   700.0   48113-1-1  4819000-07  48113002701   \n",
       "5    1804377H  2018-07-10   656.0   48113-1-1  4819000-14  48113003101   \n",
       "\n",
       "    zip_id    city_id  county_id        lon        lat  \n",
       "0  75215.0  4819000.0      48113 -96.780003  32.762274  \n",
       "1  75215.0  4819000.0      48113 -96.757373  32.767008  \n",
       "3  75210.0  4819000.0      48113 -96.743307  32.775385  \n",
       "4  75210.0  4819000.0      48113 -96.742441  32.776028  \n",
       "5  75201.0  4819000.0      48113 -96.798797  32.781548  "
      ]
     },
     "execution_count": 88,
     "metadata": {},
     "output_type": "execute_result"
    }
   ],
   "source": [
    "dallas.head()"
   ]
  },
  {
   "cell_type": "code",
   "execution_count": 172,
   "metadata": {},
   "outputs": [],
   "source": [
    "dallas.to_csv(\"cleaned_dallas_records.csv\")"
   ]
  },
  {
   "cell_type": "code",
   "execution_count": 89,
   "metadata": {},
   "outputs": [
    {
     "data": {
      "text/plain": [
       "array([[<matplotlib.axes._subplots.AxesSubplot object at 0x7ffda8683880>]],\n",
       "      dtype=object)"
      ]
     },
     "execution_count": 89,
     "metadata": {},
     "output_type": "execute_result"
    },
    {
     "data": {
      "image/png": "[encoded data removed]",
      "text/plain": [
       "<Figure size 432x288 with 1 Axes>"
      ]
     },
     "metadata": {
      "needs_background": "light"
     },
     "output_type": "display_data"
    }
   ],
   "source": [
    "dallas.hist(column='amount', bins=20, grid=False)"
   ]
  },
  {
   "cell_type": "code",
   "execution_count": 100,
   "metadata": {},
   "outputs": [
    {
     "data": {
      "text/plain": [
       "array([[<matplotlib.axes._subplots.AxesSubplot object at 0x7ffdd8fd95b0>]],\n",
       "      dtype=object)"
      ]
     },
     "execution_count": 100,
     "metadata": {},
     "output_type": "execute_result"
    },
    {
     "data": {
      "image/png": "[encoded data removed]",
      "text/plain": [
       "<Figure size 432x288 with 1 Axes>"
      ]
     },
     "metadata": {
      "needs_background": "light"
     },
     "output_type": "display_data"
    }
   ],
   "source": [
    "from scipy import stats\n",
    "\n",
    "dallas = dallas[(np.abs(stats.zscore(dallas['amount'])) < 3)]\n",
    "dallas.hist(column='amount', bins=20, grid=False)"
   ]
  },
  {
   "cell_type": "code",
   "execution_count": 153,
   "metadata": {},
   "outputs": [],
   "source": [
    "grouped_df = dallas.groupby([\"tract_id\"])\n",
    "#grouped_df[[\"amount\"]].mean().sort_values('tract')\n",
    "most_common_tracts = grouped_df['tract_id'].count().sort_values(ascending=False)"
   ]
  },
  {
   "cell_type": "code",
   "execution_count": 129,
   "metadata": {},
   "outputs": [
    {
     "data": {
      "text/plain": [
       "tract_id\n",
       "48113016607    2323\n",
       "48113019035    1837\n",
       "48113010902    1684\n",
       "48113012604    1624\n",
       "48113007811    1482\n",
       "48113010904    1472\n",
       "48113018503    1446\n",
       "48113018506    1292\n",
       "48113007202    1021\n",
       "48113012210    1014\n",
       "48113016804     896\n",
       "48113013011     894\n",
       "48113008604     883\n",
       "48113012000     883\n",
       "48113013010     872\n",
       "48113020400     861\n",
       "48113013806     841\n",
       "48113017813     828\n",
       "48113013615     823\n",
       "48113019040     814\n",
       "Name: tract_id, dtype: int64"
      ]
     },
     "execution_count": 129,
     "metadata": {},
     "output_type": "execute_result"
    }
   ],
   "source": [
    "most_common_tracts[:40]"
   ]
  },
  {
   "cell_type": "code",
   "execution_count": 173,
   "metadata": {},
   "outputs": [
    {
     "name": "stdout",
     "output_type": "stream",
     "text": [
      "48113016607\n",
      "48113019035\n",
      "48113010902\n",
      "48113012604\n",
      "48113007811\n",
      "48113010904\n",
      "48113018503\n",
      "48113018506\n",
      "48113007202\n",
      "48113012210\n",
      "48113016804\n",
      "48113013011\n",
      "48113008604\n",
      "48113012000\n",
      "48113013010\n",
      "48113020400\n",
      "48113013806\n",
      "48113017813\n",
      "48113013615\n",
      "48113019040\n",
      "48113008704\n",
      "48113009304\n",
      "48113008701\n",
      "48113017805\n",
      "48113007818\n",
      "48113012302\n",
      "48113016605\n",
      "48113013621\n",
      "48113011001\n",
      "48113007201\n",
      "48113018505\n",
      "48113006100\n",
      "48113012100\n",
      "48113014403\n",
      "48113002000\n",
      "48113017004\n",
      "48113006800\n",
      "48113011401\n",
      "48113018138\n",
      "48113006002\n"
     ]
    }
   ],
   "source": [
    "means = []\n",
    "\n",
    "for key in most_common_tracts[:40].keys():\n",
    "    print(key)\n",
    "    t = dallas[dallas['tract_id'] == key]\n",
    "    means.append({'tract' : key, 'mean' : t['amount'].mean(), 'max' : t['amount'].max(), 'min' : t['amount'].min()})"
   ]
  },
  {
   "cell_type": "code",
   "execution_count": 175,
   "metadata": {},
   "outputs": [
    {
     "data": {
      "text/plain": [
       "<matplotlib.axes._subplots.AxesSubplot at 0x7ffdcb212fa0>"
      ]
     },
     "execution_count": 175,
     "metadata": {},
     "output_type": "execute_result"
    },
    {
     "data": {
      "image/png": "[encoded data removed]",
      "text/plain": [
       "<Figure size 432x288 with 1 Axes>"
      ]
     },
     "metadata": {
      "needs_background": "light"
     },
     "output_type": "display_data"
    }
   ],
   "source": [
    "means_df = pd.DataFrame(means)\n",
    "means_df['mean'].hist(bins=20)"
   ]
  },
  {
   "cell_type": "code",
   "execution_count": 176,
   "metadata": {},
   "outputs": [
    {
     "data": {
      "text/plain": [
       "<matplotlib.axes._subplots.AxesSubplot at 0x7ffdb8d80e20>"
      ]
     },
     "execution_count": 176,
     "metadata": {},
     "output_type": "execute_result"
    },
    {
     "data": {
      "image/png": "[encoded data removed]",
      "text/plain": [
       "<Figure size 432x288 with 1 Axes>"
      ]
     },
     "metadata": {
      "needs_background": "light"
     },
     "output_type": "display_data"
    }
   ],
   "source": [
    "means_df['min'].hist(bins=20)"
   ]
  }
 ],
 "metadata": {
  "kernelspec": {
   "display_name": "Python 3",
   "language": "python",
   "name": "python3"
  },
  "language_info": {
   "codemirror_mode": {
    "name": "ipython",
    "version": 3
   },
   "file_extension": ".py",
   "mimetype": "text/x-python",
   "name": "python",
   "nbconvert_exporter": "python",
   "pygments_lexer": "ipython3",
   "version": "3.8.3"
  }
 },
 "nbformat": 4,
 "nbformat_minor": 4
}
