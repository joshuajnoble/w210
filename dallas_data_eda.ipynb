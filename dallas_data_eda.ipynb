{
 "cells": [
  {
   "cell_type": "code",
   "execution_count": 15,
   "metadata": {},
   "outputs": [],
   "source": [
    "import pandas as pd\n",
    "import numpy as np"
   ]
  },
  {
   "cell_type": "code",
   "execution_count": 98,
   "metadata": {},
   "outputs": [],
   "source": [
    "dallas = pd.read_csv(\"/Users/joshnoble/projects/w210/evictions/NTEP_eviction_cases.csv\", low_memory=False)"
   ]
  },
  {
   "cell_type": "code",
   "execution_count": 86,
   "metadata": {},
   "outputs": [
    {
     "data": {
      "text/html": [
       "<div>\n",
       "<style scoped>\n",
       "    .dataframe tbody tr th:only-of-type {\n",
       "        vertical-align: middle;\n",
       "    }\n",
       "\n",
       "    .dataframe tbody tr th {\n",
       "        vertical-align: top;\n",
       "    }\n",
       "\n",
       "    .dataframe thead th {\n",
       "        text-align: right;\n",
       "    }\n",
       "</style>\n",
       "<table border=\"1\" class=\"dataframe\">\n",
       "  <thead>\n",
       "    <tr style=\"text-align: right;\">\n",
       "      <th></th>\n",
       "      <th>case_number</th>\n",
       "      <th>date</th>\n",
       "      <th>amount</th>\n",
       "      <th>precinct_id</th>\n",
       "      <th>council_id</th>\n",
       "      <th>tract_id</th>\n",
       "      <th>zip_id</th>\n",
       "      <th>city_id</th>\n",
       "      <th>county_id</th>\n",
       "      <th>lon</th>\n",
       "      <th>lat</th>\n",
       "    </tr>\n",
       "  </thead>\n",
       "  <tbody>\n",
       "    <tr>\n",
       "      <th>0</th>\n",
       "      <td>1804351H</td>\n",
       "      <td>2018-07-10</td>\n",
       "      <td>1590.0</td>\n",
       "      <td>48113-1-1</td>\n",
       "      <td>4819000-07</td>\n",
       "      <td>4.811300e+10</td>\n",
       "      <td>75215.0</td>\n",
       "      <td>4819000.0</td>\n",
       "      <td>48113</td>\n",
       "      <td>-96.780003</td>\n",
       "      <td>32.762274</td>\n",
       "    </tr>\n",
       "    <tr>\n",
       "      <th>1</th>\n",
       "      <td>1804378H</td>\n",
       "      <td>2018-07-10</td>\n",
       "      <td>1217.0</td>\n",
       "      <td>48113-1-1</td>\n",
       "      <td>4819000-07</td>\n",
       "      <td>4.811300e+10</td>\n",
       "      <td>75215.0</td>\n",
       "      <td>4819000.0</td>\n",
       "      <td>48113</td>\n",
       "      <td>-96.757373</td>\n",
       "      <td>32.767008</td>\n",
       "    </tr>\n",
       "    <tr>\n",
       "      <th>2</th>\n",
       "      <td>1804374H</td>\n",
       "      <td>2018-07-10</td>\n",
       "      <td>0.0</td>\n",
       "      <td>48113-1-1</td>\n",
       "      <td>4819000-07</td>\n",
       "      <td>4.811300e+10</td>\n",
       "      <td>75210.0</td>\n",
       "      <td>4819000.0</td>\n",
       "      <td>48113</td>\n",
       "      <td>-96.743293</td>\n",
       "      <td>32.775399</td>\n",
       "    </tr>\n",
       "    <tr>\n",
       "      <th>3</th>\n",
       "      <td>1804376H</td>\n",
       "      <td>2018-07-10</td>\n",
       "      <td>700.0</td>\n",
       "      <td>48113-1-1</td>\n",
       "      <td>4819000-07</td>\n",
       "      <td>4.811300e+10</td>\n",
       "      <td>75210.0</td>\n",
       "      <td>4819000.0</td>\n",
       "      <td>48113</td>\n",
       "      <td>-96.743307</td>\n",
       "      <td>32.775385</td>\n",
       "    </tr>\n",
       "    <tr>\n",
       "      <th>4</th>\n",
       "      <td>1804375H</td>\n",
       "      <td>2018-07-10</td>\n",
       "      <td>700.0</td>\n",
       "      <td>48113-1-1</td>\n",
       "      <td>4819000-07</td>\n",
       "      <td>4.811300e+10</td>\n",
       "      <td>75210.0</td>\n",
       "      <td>4819000.0</td>\n",
       "      <td>48113</td>\n",
       "      <td>-96.742441</td>\n",
       "      <td>32.776028</td>\n",
       "    </tr>\n",
       "  </tbody>\n",
       "</table>\n",
       "</div>"
      ],
      "text/plain": [
       "  case_number        date  amount precinct_id  council_id      tract_id  \\\n",
       "0    1804351H  2018-07-10  1590.0   48113-1-1  4819000-07  4.811300e+10   \n",
       "1    1804378H  2018-07-10  1217.0   48113-1-1  4819000-07  4.811300e+10   \n",
       "2    1804374H  2018-07-10     0.0   48113-1-1  4819000-07  4.811300e+10   \n",
       "3    1804376H  2018-07-10   700.0   48113-1-1  4819000-07  4.811300e+10   \n",
       "4    1804375H  2018-07-10   700.0   48113-1-1  4819000-07  4.811300e+10   \n",
       "\n",
       "    zip_id    city_id  county_id        lon        lat  \n",
       "0  75215.0  4819000.0      48113 -96.780003  32.762274  \n",
       "1  75215.0  4819000.0      48113 -96.757373  32.767008  \n",
       "2  75210.0  4819000.0      48113 -96.743293  32.775399  \n",
       "3  75210.0  4819000.0      48113 -96.743307  32.775385  \n",
       "4  75210.0  4819000.0      48113 -96.742441  32.776028  "
      ]
     },
     "execution_count": 86,
     "metadata": {},
     "output_type": "execute_result"
    }
   ],
   "source": [
    "dallas.head()"
   ]
  },
  {
   "cell_type": "code",
   "execution_count": 99,
   "metadata": {},
   "outputs": [],
   "source": [
    "dallas = dallas[(dallas['amount'] > 0) & (dallas['date'].notna()) & (dallas['tract_id'].notna())]\n",
    "\n",
    "dallas['tract_id'] = dallas['tract_id'].astype(np.int64)"
   ]
  },
  {
   "cell_type": "code",
   "execution_count": 88,
   "metadata": {},
   "outputs": [
    {
     "data": {
      "text/html": [
       "<div>\n",
       "<style scoped>\n",
       "    .dataframe tbody tr th:only-of-type {\n",
       "        vertical-align: middle;\n",
       "    }\n",
       "\n",
       "    .dataframe tbody tr th {\n",
       "        vertical-align: top;\n",
       "    }\n",
       "\n",
       "    .dataframe thead th {\n",
       "        text-align: right;\n",
       "    }\n",
       "</style>\n",
       "<table border=\"1\" class=\"dataframe\">\n",
       "  <thead>\n",
       "    <tr style=\"text-align: right;\">\n",
       "      <th></th>\n",
       "      <th>case_number</th>\n",
       "      <th>date</th>\n",
       "      <th>amount</th>\n",
       "      <th>precinct_id</th>\n",
       "      <th>council_id</th>\n",
       "      <th>tract_id</th>\n",
       "      <th>zip_id</th>\n",
       "      <th>city_id</th>\n",
       "      <th>county_id</th>\n",
       "      <th>lon</th>\n",
       "      <th>lat</th>\n",
       "    </tr>\n",
       "  </thead>\n",
       "  <tbody>\n",
       "    <tr>\n",
       "      <th>0</th>\n",
       "      <td>1804351H</td>\n",
       "      <td>2018-07-10</td>\n",
       "      <td>1590.0</td>\n",
       "      <td>48113-1-1</td>\n",
       "      <td>4819000-07</td>\n",
       "      <td>48113003400</td>\n",
       "      <td>75215.0</td>\n",
       "      <td>4819000.0</td>\n",
       "      <td>48113</td>\n",
       "      <td>-96.780003</td>\n",
       "      <td>32.762274</td>\n",
       "    </tr>\n",
       "    <tr>\n",
       "      <th>1</th>\n",
       "      <td>1804378H</td>\n",
       "      <td>2018-07-10</td>\n",
       "      <td>1217.0</td>\n",
       "      <td>48113-1-1</td>\n",
       "      <td>4819000-07</td>\n",
       "      <td>48113003700</td>\n",
       "      <td>75215.0</td>\n",
       "      <td>4819000.0</td>\n",
       "      <td>48113</td>\n",
       "      <td>-96.757373</td>\n",
       "      <td>32.767008</td>\n",
       "    </tr>\n",
       "    <tr>\n",
       "      <th>3</th>\n",
       "      <td>1804376H</td>\n",
       "      <td>2018-07-10</td>\n",
       "      <td>700.0</td>\n",
       "      <td>48113-1-1</td>\n",
       "      <td>4819000-07</td>\n",
       "      <td>48113002701</td>\n",
       "      <td>75210.0</td>\n",
       "      <td>4819000.0</td>\n",
       "      <td>48113</td>\n",
       "      <td>-96.743307</td>\n",
       "      <td>32.775385</td>\n",
       "    </tr>\n",
       "    <tr>\n",
       "      <th>4</th>\n",
       "      <td>1804375H</td>\n",
       "      <td>2018-07-10</td>\n",
       "      <td>700.0</td>\n",
       "      <td>48113-1-1</td>\n",
       "      <td>4819000-07</td>\n",
       "      <td>48113002701</td>\n",
       "      <td>75210.0</td>\n",
       "      <td>4819000.0</td>\n",
       "      <td>48113</td>\n",
       "      <td>-96.742441</td>\n",
       "      <td>32.776028</td>\n",
       "    </tr>\n",
       "    <tr>\n",
       "      <th>5</th>\n",
       "      <td>1804377H</td>\n",
       "      <td>2018-07-10</td>\n",
       "      <td>656.0</td>\n",
       "      <td>48113-1-1</td>\n",
       "      <td>4819000-14</td>\n",
       "      <td>48113003101</td>\n",
       "      <td>75201.0</td>\n",
       "      <td>4819000.0</td>\n",
       "      <td>48113</td>\n",
       "      <td>-96.798797</td>\n",
       "      <td>32.781548</td>\n",
       "    </tr>\n",
       "  </tbody>\n",
       "</table>\n",
       "</div>"
      ],
      "text/plain": [
       "  case_number        date  amount precinct_id  council_id     tract_id  \\\n",
       "0    1804351H  2018-07-10  1590.0   48113-1-1  4819000-07  48113003400   \n",
       "1    1804378H  2018-07-10  1217.0   48113-1-1  4819000-07  48113003700   \n",
       "3    1804376H  2018-07-10   700.0   48113-1-1  4819000-07  48113002701   \n",
       "4    1804375H  2018-07-10   700.0   48113-1-1  4819000-07  48113002701   \n",
       "5    1804377H  2018-07-10   656.0   48113-1-1  4819000-14  48113003101   \n",
       "\n",
       "    zip_id    city_id  county_id        lon        lat  \n",
       "0  75215.0  4819000.0      48113 -96.780003  32.762274  \n",
       "1  75215.0  4819000.0      48113 -96.757373  32.767008  \n",
       "3  75210.0  4819000.0      48113 -96.743307  32.775385  \n",
       "4  75210.0  4819000.0      48113 -96.742441  32.776028  \n",
       "5  75201.0  4819000.0      48113 -96.798797  32.781548  "
      ]
     },
     "execution_count": 88,
     "metadata": {},
     "output_type": "execute_result"
    }
   ],
   "source": [
    "dallas.head()"
   ]
  },
  {
   "cell_type": "code",
   "execution_count": 172,
   "metadata": {},
   "outputs": [],
   "source": [
    "dallas.to_csv(\"cleaned_dallas_records.csv\")"
   ]
  },
  {
   "cell_type": "code",
   "execution_count": 89,
   "metadata": {},
   "outputs": [
    {
     "data": {
      "text/plain": [
       "array([[<matplotlib.axes._subplots.AxesSubplot object at 0x7ffda8683880>]],\n",
       "      dtype=object)"
      ]
     },
     "execution_count": 89,
     "metadata": {},
     "output_type": "execute_result"
    },
    {
     "data": {
      "image/png": "[encoded data removed]",
      "text/plain": [
       "<Figure size 432x288 with 1 Axes>"
      ]
     },
     "metadata": {
      "needs_background": "light"
     },
     "output_type": "display_data"
    }
   ],
   "source": [
    "dallas.hist(column='amount', bins=20, grid=False)"
   ]
  },
  {
   "cell_type": "code",
   "execution_count": 100,
   "metadata": {},
   "outputs": [
    {
     "data": {
      "text/plain": [
       "array([[<matplotlib.axes._subplots.AxesSubplot object at 0x7ffdd8fd95b0>]],\n",
       "      dtype=object)"
      ]
     },
     "execution_count": 100,
     "metadata": {},
     "output_type": "execute_result"
    },
    {
     "data": {
      "image/png": "[encoded data removed]",
      "text/plain": [
       "<Figure size 432x288 with 1 Axes>"
      ]
     },
     "metadata": {
      "needs_background": "light"
     },
     "output_type": "display_data"
    }
   ],
   "source": [
    "from scipy import stats\n",
    "\n",
    "dallas = dallas[(np.abs(stats.zscore(dallas['amount'])) < 3)]\n",
    "dallas.hist(column='amount', bins=20, grid=False)"
   ]
  },
  {
   "cell_type": "code",
   "execution_count": 153,
   "metadata": {},
   "outputs": [],
   "source": [
    "grouped_df = dallas.groupby([\"tract_id\"])\n",
    "#grouped_df[[\"amount\"]].mean().sort_values('tract')\n",
    "most_common_tracts = grouped_df['tract_id'].count().sort_values(ascending=False)"
   ]
  },
  {
   "cell_type": "code",
   "execution_count": 129,
   "metadata": {},
   "outputs": [
    {
     "data": {
      "text/plain": [
       "tract_id\n",
       "48113016607    2323\n",
       "48113019035    1837\n",
       "48113010902    1684\n",
       "48113012604    1624\n",
       "48113007811    1482\n",
       "48113010904    1472\n",
       "48113018503    1446\n",
       "48113018506    1292\n",
       "48113007202    1021\n",
       "48113012210    1014\n",
       "48113016804     896\n",
       "48113013011     894\n",
       "48113008604     883\n",
       "48113012000     883\n",
       "48113013010     872\n",
       "48113020400     861\n",
       "48113013806     841\n",
       "48113017813     828\n",
       "48113013615     823\n",
       "48113019040     814\n",
       "Name: tract_id, dtype: int64"
      ]
     },
     "execution_count": 129,
     "metadata": {},
     "output_type": "execute_result"
    }
   ],
   "source": [
    "most_common_tracts[:40]"
   ]
  },
  {
   "cell_type": "code",
   "execution_count": 173,
   "metadata": {},
   "outputs": [
    {
     "name": "stdout",
     "output_type": "stream",
     "text": [
      "48113016607\n",
      "48113019035\n",
      "48113010902\n",
      "48113012604\n",
      "48113007811\n",
      "48113010904\n",
      "48113018503\n",
      "48113018506\n",
      "48113007202\n",
      "48113012210\n",
      "48113016804\n",
      "48113013011\n",
      "48113008604\n",
      "48113012000\n",
      "48113013010\n",
      "48113020400\n",
      "48113013806\n",
      "48113017813\n",
      "48113013615\n",
      "48113019040\n",
      "48113008704\n",
      "48113009304\n",
      "48113008701\n",
      "48113017805\n",
      "48113007818\n",
      "48113012302\n",
      "48113016605\n",
      "48113013621\n",
      "48113011001\n",
      "48113007201\n",
      "48113018505\n",
      "48113006100\n",
      "48113012100\n",
      "48113014403\n",
      "48113002000\n",
      "48113017004\n",
      "48113006800\n",
      "48113011401\n",
      "48113018138\n",
      "48113006002\n"
     ]
    }
   ],
   "source": [
    "means = []\n",
    "\n",
    "for key in most_common_tracts[:40].keys():\n",
    "    print(key)\n",
    "    t = dallas[dallas['tract_id'] == key]\n",
    "    means.append({'tract' : key, 'mean' : t['amount'].mean(), 'max' : t['amount'].max(), 'min' : t['amount'].min()})"
   ]
  },
  {
   "cell_type": "code",
   "execution_count": 175,
   "metadata": {},
   "outputs": [
    {
     "data": {
      "text/plain": [
       "<matplotlib.axes._subplots.AxesSubplot at 0x7ffdcb212fa0>"
      ]
     },
     "execution_count": 175,
     "metadata": {},
     "output_type": "execute_result"
    },
    {
     "data": {
      "image/png": "[encoded data removed]",
      "text/plain": [
       "<Figure size 432x288 with 1 Axes>"
      ]
     },
     "metadata": {
      "needs_background": "light"
     },
     "output_type": "display_data"
    }
   ],
   "source": [
    "means_df = pd.DataFrame(means)\n",
    "means_df['mean'].hist(bins=20)"
   ]
  },
  {
   "cell_type": "code",
   "execution_count": 176,
   "metadata": {},
   "outputs": [
    {
     "data": {
      "text/plain": [
       "<matplotlib.axes._subplots.AxesSubplot at 0x7ffdb8d80e20>"
      ]
     },
     "execution_count": 176,
     "metadata": {},
     "output_type": "execute_result"
    },
    {
     "data": {
      "image/png": "[encoded data removed]",
      "text/plain": [
       "<Figure size 432x288 with 1 Axes>"
      ]
     },
     "metadata": {
      "needs_background": "light"
     },
     "output_type": "display_data"
    }
   ],
   "source": [
    "means_df['min'].hist(bins=20)"
   ]
  },
  {
   "cell_type": "code",
   "execution_count": 177,
   "metadata": {},
   "outputs": [],
   "source": [
    "date_grouped_df = dallas.groupby([\"date\"])"
   ]
  },
  {
   "cell_type": "code",
   "execution_count": 193,
   "metadata": {},
   "outputs": [],
   "source": [
    "dallas['week_dt'] = pd.to_datetime(dallas['date']) - pd.to_timedelta(7, unit='d')\n",
    "dallas['date_dt'] = pd.to_datetime(dallas['date'])\n",
    "dallas_week_ts = dallas.groupby([pd.Grouper(key='week_dt', freq='W-MON')]).count().reset_index().sort_values('week_dt')\n",
    "dallas_ts = dallas.groupby([pd.Grouper(key='date_dt')]).count().reset_index().sort_values('date_dt')"
   ]
  },
  {
   "cell_type": "code",
   "execution_count": 191,
   "metadata": {},
   "outputs": [
    {
     "data": {
      "text/plain": [
       "1289"
      ]
     },
     "execution_count": 191,
     "metadata": {},
     "output_type": "execute_result"
    }
   ],
   "source": [
    "bcheck = pd.to_datetime('2017-01-09')\n",
    "echeck = pd.to_datetime('2017-01-17')\n",
    "\n",
    "len(dallas[(dallas['date_dt'] > bcheck) & (dallas['date_dt'] < echeck)])"
   ]
  },
  {
   "cell_type": "code",
   "execution_count": 202,
   "metadata": {},
   "outputs": [
    {
     "data": {
      "text/html": [
       "<div>\n",
       "<style scoped>\n",
       "    .dataframe tbody tr th:only-of-type {\n",
       "        vertical-align: middle;\n",
       "    }\n",
       "\n",
       "    .dataframe tbody tr th {\n",
       "        vertical-align: top;\n",
       "    }\n",
       "\n",
       "    .dataframe thead th {\n",
       "        text-align: right;\n",
       "    }\n",
       "</style>\n",
       "<table border=\"1\" class=\"dataframe\">\n",
       "  <thead>\n",
       "    <tr style=\"text-align: right;\">\n",
       "      <th></th>\n",
       "      <th>date_delta</th>\n",
       "      <th>case_number</th>\n",
       "    </tr>\n",
       "  </thead>\n",
       "  <tbody>\n",
       "    <tr>\n",
       "      <th>0</th>\n",
       "      <td>0.0</td>\n",
       "      <td>51</td>\n",
       "    </tr>\n",
       "    <tr>\n",
       "      <th>1</th>\n",
       "      <td>1.0</td>\n",
       "      <td>44</td>\n",
       "    </tr>\n",
       "    <tr>\n",
       "      <th>2</th>\n",
       "      <td>2.0</td>\n",
       "      <td>43</td>\n",
       "    </tr>\n",
       "    <tr>\n",
       "      <th>3</th>\n",
       "      <td>3.0</td>\n",
       "      <td>22</td>\n",
       "    </tr>\n",
       "    <tr>\n",
       "      <th>4</th>\n",
       "      <td>4.0</td>\n",
       "      <td>1</td>\n",
       "    </tr>\n",
       "  </tbody>\n",
       "</table>\n",
       "</div>"
      ],
      "text/plain": [
       "   date_delta  case_number\n",
       "0         0.0           51\n",
       "1         1.0           44\n",
       "2         2.0           43\n",
       "3         3.0           22\n",
       "4         4.0            1"
      ]
     },
     "execution_count": 202,
     "metadata": {},
     "output_type": "execute_result"
    }
   ],
   "source": [
    "dallas_ts['date_delta'] = (dallas_ts['date_dt'] - dallas_ts['date_dt'].min())  / np.timedelta64(1,'D')\n",
    "dallas_ts = dallas_ts[['date_delta', 'case_number']]\n",
    "dallas_ts.head()"
   ]
  },
  {
   "cell_type": "code",
   "execution_count": 205,
   "metadata": {},
   "outputs": [
    {
     "data": {
      "text/html": [
       "<div>\n",
       "<style scoped>\n",
       "    .dataframe tbody tr th:only-of-type {\n",
       "        vertical-align: middle;\n",
       "    }\n",
       "\n",
       "    .dataframe tbody tr th {\n",
       "        vertical-align: top;\n",
       "    }\n",
       "\n",
       "    .dataframe thead th {\n",
       "        text-align: right;\n",
       "    }\n",
       "</style>\n",
       "<table border=\"1\" class=\"dataframe\">\n",
       "  <thead>\n",
       "    <tr style=\"text-align: right;\">\n",
       "      <th></th>\n",
       "      <th>date_delta</th>\n",
       "      <th>case_number</th>\n",
       "    </tr>\n",
       "  </thead>\n",
       "  <tbody>\n",
       "    <tr>\n",
       "      <th>0</th>\n",
       "      <td>0.0</td>\n",
       "      <td>269</td>\n",
       "    </tr>\n",
       "    <tr>\n",
       "      <th>1</th>\n",
       "      <td>1.0</td>\n",
       "      <td>826</td>\n",
       "    </tr>\n",
       "    <tr>\n",
       "      <th>2</th>\n",
       "      <td>2.0</td>\n",
       "      <td>1289</td>\n",
       "    </tr>\n",
       "    <tr>\n",
       "      <th>3</th>\n",
       "      <td>3.0</td>\n",
       "      <td>455</td>\n",
       "    </tr>\n",
       "    <tr>\n",
       "      <th>4</th>\n",
       "      <td>4.0</td>\n",
       "      <td>223</td>\n",
       "    </tr>\n",
       "  </tbody>\n",
       "</table>\n",
       "</div>"
      ],
      "text/plain": [
       "   date_delta  case_number\n",
       "0         0.0          269\n",
       "1         1.0          826\n",
       "2         2.0         1289\n",
       "3         3.0          455\n",
       "4         4.0          223"
      ]
     },
     "execution_count": 205,
     "metadata": {},
     "output_type": "execute_result"
    }
   ],
   "source": [
    "dallas_week_ts['date_delta'] = (dallas_week_ts['week_dt'] - dallas_week_ts['week_dt'].min())  / np.timedelta64(1,'W')\n",
    "dallas_week_ts = dallas_week_ts[['date_delta', 'case_number']]\n",
    "dallas_week_ts.head()"
   ]
  },
  {
   "cell_type": "code",
   "execution_count": 192,
   "metadata": {},
   "outputs": [],
   "source": [
    "import xgboost"
   ]
  },
  {
   "cell_type": "code",
   "execution_count": 199,
   "metadata": {},
   "outputs": [],
   "source": [
    "# forecast monthly births with xgboost\n",
    "from numpy import asarray\n",
    "from pandas import read_csv\n",
    "from pandas import DataFrame\n",
    "from pandas import concat\n",
    "from sklearn.metrics import mean_absolute_error\n",
    "from xgboost import XGBRegressor\n",
    "from matplotlib import pyplot\n",
    "\n",
    "# transform a time series dataset into a supervised learning dataset\n",
    "def series_to_supervised(data, n_in=1, n_out=1, dropnan=True):\n",
    "    n_vars = 1 if type(data) is list else data.shape[1]\n",
    "    df = DataFrame(data)\n",
    "    cols = list()\n",
    "    # input sequence (t-n, ... t-1)\n",
    "    for i in range(n_in, 0, -1):\n",
    "        cols.append(df.shift(i))\n",
    "    # forecast sequence (t, t+1, ... t+n)\n",
    "    for i in range(0, n_out):\n",
    "        cols.append(df.shift(-i))\n",
    "    # put it all together\n",
    "    agg = concat(cols, axis=1)\n",
    "    # drop rows with NaN values\n",
    "    if dropnan:\n",
    "        agg.dropna(inplace=True)\n",
    "    return agg.values\n",
    "\n",
    "# split a univariate dataset into train/test sets\n",
    "def train_test_split(data, n_test):\n",
    "    return data[:-n_test, :], data[-n_test:, :]\n",
    "\n",
    "# fit an xgboost model and make a one step prediction\n",
    "def xgboost_forecast(train, testX):\n",
    "    # transform list into array\n",
    "    train = asarray(train)\n",
    "    # split into input and output columns\n",
    "    trainX, trainy = train[:, :-1], train[:, -1]\n",
    "    # fit model\n",
    "    model = XGBRegressor(objective='reg:squarederror', n_estimators=1000)\n",
    "    model.fit(trainX, trainy)\n",
    "    # make a one-step prediction\n",
    "    yhat = model.predict(asarray([testX]))\n",
    "    return yhat[0]\n",
    "\n",
    "# walk-forward validation for univariate data\n",
    "def walk_forward_validation(data, n_test):\n",
    "    predictions = list()\n",
    "    # split dataset\n",
    "    train, test = train_test_split(data, n_test)\n",
    "    # seed history with training dataset\n",
    "    history = [x for x in train]\n",
    "    # step over each time-step in the test set\n",
    "    for i in range(len(test)):\n",
    "        # split test row into input and output columns\n",
    "        testX, testy = test[i, :-1], test[i, -1]\n",
    "        # fit model on history and make a prediction\n",
    "        yhat = xgboost_forecast(history, testX)\n",
    "        # store forecast in list of predictions\n",
    "        predictions.append(yhat)\n",
    "        # add actual observation to history for the next loop\n",
    "        history.append(test[i])\n",
    "        # summarize progress\n",
    "        print('>expected=%.1f, predicted=%.1f' % (testy, yhat))\n",
    "    # estimate prediction error\n",
    "    error = mean_absolute_error(test[:, -1], predictions)\n",
    "    return error, test[:, -1], predictions\n"
   ]
  },
  {
   "cell_type": "code",
   "execution_count": 203,
   "metadata": {},
   "outputs": [
    {
     "name": "stderr",
     "output_type": "stream",
     "text": [
      "/Users/joshnoble/opt/anaconda3/lib/python3.8/site-packages/xgboost/data.py:104: UserWarning: Use subset (sliced data) of np.ndarray is not recommended because it will generate extra copies and increase memory consumption\n",
      "  warnings.warn(\n"
     ]
    },
    {
     "name": "stdout",
     "output_type": "stream",
     "text": [
      ">expected=99.0, predicted=79.4\n",
      ">expected=93.0, predicted=112.9\n",
      ">expected=144.0, predicted=86.6\n",
      ">expected=121.0, predicted=129.1\n",
      ">expected=113.0, predicted=84.2\n",
      ">expected=116.0, predicted=86.1\n",
      ">expected=130.0, predicted=95.3\n",
      ">expected=90.0, predicted=97.1\n",
      ">expected=122.0, predicted=107.8\n",
      ">expected=100.0, predicted=89.3\n",
      ">expected=72.0, predicted=111.7\n",
      ">expected=99.0, predicted=93.3\n",
      "MAE: 22.985\n"
     ]
    },
    {
     "data": {
      "image/png": "[encoded data removed]",
      "text/plain": [
       "<Figure size 432x288 with 1 Axes>"
      ]
     },
     "metadata": {
      "needs_background": "light"
     },
     "output_type": "display_data"
    }
   ],
   "source": [
    "# load the dataset\n",
    "series = dallas_ts\n",
    "values = series.values\n",
    "# transform the time series data into supervised learning\n",
    "data = series_to_supervised(values, n_in=6)\n",
    "# evaluate\n",
    "mae, y, yhat = walk_forward_validation(data, 12)\n",
    "print('MAE: %.3f' % mae)\n",
    "# plot expected vs preducted\n",
    "pyplot.plot(y, label='Expected')\n",
    "pyplot.plot(yhat, label='Predicted')\n",
    "pyplot.legend()\n",
    "pyplot.show()"
   ]
  },
  {
   "cell_type": "code",
   "execution_count": 206,
   "metadata": {},
   "outputs": [
    {
     "name": "stderr",
     "output_type": "stream",
     "text": [
      "/Users/joshnoble/opt/anaconda3/lib/python3.8/site-packages/xgboost/data.py:104: UserWarning: Use subset (sliced data) of np.ndarray is not recommended because it will generate extra copies and increase memory consumption\n",
      "  warnings.warn(\n"
     ]
    },
    {
     "name": "stdout",
     "output_type": "stream",
     "text": [
      ">expected=372.0, predicted=310.6\n",
      ">expected=553.0, predicted=320.8\n",
      ">expected=344.0, predicted=317.6\n",
      ">expected=221.0, predicted=255.0\n",
      ">expected=299.0, predicted=275.7\n",
      ">expected=539.0, predicted=342.6\n",
      ">expected=386.0, predicted=300.9\n",
      ">expected=332.0, predicted=321.4\n",
      ">expected=178.0, predicted=332.2\n",
      ">expected=522.0, predicted=261.8\n",
      ">expected=570.0, predicted=401.8\n",
      ">expected=393.0, predicted=436.2\n",
      "MAE: 107.934\n"
     ]
    },
    {
     "data": {
      "image/png": "[encoded data removed]",
      "text/plain": [
       "<Figure size 432x288 with 1 Axes>"
      ]
     },
     "metadata": {
      "needs_background": "light"
     },
     "output_type": "display_data"
    }
   ],
   "source": [
    "# load the dataset\n",
    "series = dallas_week_ts\n",
    "values = series.values\n",
    "# transform the time series data into supervised learning\n",
    "data = series_to_supervised(values, n_in=6)\n",
    "# evaluate\n",
    "mae, y, yhat = walk_forward_validation(data, 12)\n",
    "print('MAE: %.3f' % mae)\n",
    "# plot expected vs preducted\n",
    "pyplot.plot(y, label='Expected')\n",
    "pyplot.plot(yhat, label='Predicted')\n",
    "pyplot.legend()\n",
    "pyplot.show()"
   ]
  }
 ],
 "metadata": {
  "kernelspec": {
   "display_name": "Python 3",
   "language": "python",
   "name": "python3"
  },
  "language_info": {
   "codemirror_mode": {
    "name": "ipython",
    "version": 3
   },
   "file_extension": ".py",
   "mimetype": "text/x-python",
   "name": "python",
   "nbconvert_exporter": "python",
   "pygments_lexer": "ipython3",
   "version": "3.8.3"
  }
 },
 "nbformat": 4,
 "nbformat_minor": 4
}
