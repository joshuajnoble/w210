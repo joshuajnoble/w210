{
 "cells": [
  {
   "cell_type": "code",
   "execution_count": 3,
   "metadata": {},
   "outputs": [],
   "source": [
    "import pandas as pd\n",
    "import numpy as np"
   ]
  },
  {
   "cell_type": "code",
   "execution_count": 5,
   "metadata": {},
   "outputs": [],
   "source": [
    "#dallas = pd.read_csv(\"/Users/joshnoble/projects/w210/evictions/NTEP_eviction_cases.csv\", low_memory=False)\n",
    "dallas = pd.read_csv(\"/Users/joshnoble/projects/w210/evictions/cleaned_dallas_records.csv\")"
   ]
  },
  {
   "cell_type": "code",
   "execution_count": 6,
   "metadata": {},
   "outputs": [
    {
     "data": {
      "text/html": [
       "<div>\n",
       "<style scoped>\n",
       "    .dataframe tbody tr th:only-of-type {\n",
       "        vertical-align: middle;\n",
       "    }\n",
       "\n",
       "    .dataframe tbody tr th {\n",
       "        vertical-align: top;\n",
       "    }\n",
       "\n",
       "    .dataframe thead th {\n",
       "        text-align: right;\n",
       "    }\n",
       "</style>\n",
       "<table border=\"1\" class=\"dataframe\">\n",
       "  <thead>\n",
       "    <tr style=\"text-align: right;\">\n",
       "      <th></th>\n",
       "      <th>Unnamed: 0</th>\n",
       "      <th>case_number</th>\n",
       "      <th>date</th>\n",
       "      <th>amount</th>\n",
       "      <th>precinct_id</th>\n",
       "      <th>council_id</th>\n",
       "      <th>tract_id</th>\n",
       "      <th>zip_id</th>\n",
       "      <th>city_id</th>\n",
       "      <th>county_id</th>\n",
       "      <th>lon</th>\n",
       "      <th>lat</th>\n",
       "    </tr>\n",
       "  </thead>\n",
       "  <tbody>\n",
       "    <tr>\n",
       "      <th>0</th>\n",
       "      <td>0</td>\n",
       "      <td>1804351H</td>\n",
       "      <td>2018-07-10</td>\n",
       "      <td>1590.0</td>\n",
       "      <td>48113-1-1</td>\n",
       "      <td>4819000-07</td>\n",
       "      <td>48113003400</td>\n",
       "      <td>75215.0</td>\n",
       "      <td>4819000.0</td>\n",
       "      <td>48113</td>\n",
       "      <td>-96.780003</td>\n",
       "      <td>32.762274</td>\n",
       "    </tr>\n",
       "    <tr>\n",
       "      <th>1</th>\n",
       "      <td>1</td>\n",
       "      <td>1804378H</td>\n",
       "      <td>2018-07-10</td>\n",
       "      <td>1217.0</td>\n",
       "      <td>48113-1-1</td>\n",
       "      <td>4819000-07</td>\n",
       "      <td>48113003700</td>\n",
       "      <td>75215.0</td>\n",
       "      <td>4819000.0</td>\n",
       "      <td>48113</td>\n",
       "      <td>-96.757373</td>\n",
       "      <td>32.767008</td>\n",
       "    </tr>\n",
       "    <tr>\n",
       "      <th>2</th>\n",
       "      <td>3</td>\n",
       "      <td>1804376H</td>\n",
       "      <td>2018-07-10</td>\n",
       "      <td>700.0</td>\n",
       "      <td>48113-1-1</td>\n",
       "      <td>4819000-07</td>\n",
       "      <td>48113002701</td>\n",
       "      <td>75210.0</td>\n",
       "      <td>4819000.0</td>\n",
       "      <td>48113</td>\n",
       "      <td>-96.743307</td>\n",
       "      <td>32.775385</td>\n",
       "    </tr>\n",
       "    <tr>\n",
       "      <th>3</th>\n",
       "      <td>4</td>\n",
       "      <td>1804375H</td>\n",
       "      <td>2018-07-10</td>\n",
       "      <td>700.0</td>\n",
       "      <td>48113-1-1</td>\n",
       "      <td>4819000-07</td>\n",
       "      <td>48113002701</td>\n",
       "      <td>75210.0</td>\n",
       "      <td>4819000.0</td>\n",
       "      <td>48113</td>\n",
       "      <td>-96.742441</td>\n",
       "      <td>32.776028</td>\n",
       "    </tr>\n",
       "    <tr>\n",
       "      <th>4</th>\n",
       "      <td>5</td>\n",
       "      <td>1804377H</td>\n",
       "      <td>2018-07-10</td>\n",
       "      <td>656.0</td>\n",
       "      <td>48113-1-1</td>\n",
       "      <td>4819000-14</td>\n",
       "      <td>48113003101</td>\n",
       "      <td>75201.0</td>\n",
       "      <td>4819000.0</td>\n",
       "      <td>48113</td>\n",
       "      <td>-96.798797</td>\n",
       "      <td>32.781548</td>\n",
       "    </tr>\n",
       "  </tbody>\n",
       "</table>\n",
       "</div>"
      ],
      "text/plain": [
       "   Unnamed: 0 case_number        date  amount precinct_id  council_id  \\\n",
       "0           0    1804351H  2018-07-10  1590.0   48113-1-1  4819000-07   \n",
       "1           1    1804378H  2018-07-10  1217.0   48113-1-1  4819000-07   \n",
       "2           3    1804376H  2018-07-10   700.0   48113-1-1  4819000-07   \n",
       "3           4    1804375H  2018-07-10   700.0   48113-1-1  4819000-07   \n",
       "4           5    1804377H  2018-07-10   656.0   48113-1-1  4819000-14   \n",
       "\n",
       "      tract_id   zip_id    city_id  county_id        lon        lat  \n",
       "0  48113003400  75215.0  4819000.0      48113 -96.780003  32.762274  \n",
       "1  48113003700  75215.0  4819000.0      48113 -96.757373  32.767008  \n",
       "2  48113002701  75210.0  4819000.0      48113 -96.743307  32.775385  \n",
       "3  48113002701  75210.0  4819000.0      48113 -96.742441  32.776028  \n",
       "4  48113003101  75201.0  4819000.0      48113 -96.798797  32.781548  "
      ]
     },
     "execution_count": 6,
     "metadata": {},
     "output_type": "execute_result"
    }
   ],
   "source": [
    "dallas.head()"
   ]
  },
  {
   "cell_type": "code",
   "execution_count": 7,
   "metadata": {},
   "outputs": [],
   "source": [
    "dallas = dallas[(dallas['amount'] > 0) & (dallas['date'].notna()) & (dallas['tract_id'].notna())]\n",
    "\n",
    "dallas['tract_id'] = dallas['tract_id'].astype(np.int64)"
   ]
  },
  {
   "cell_type": "code",
   "execution_count": 8,
   "metadata": {},
   "outputs": [
    {
     "data": {
      "text/html": [
       "<div>\n",
       "<style scoped>\n",
       "    .dataframe tbody tr th:only-of-type {\n",
       "        vertical-align: middle;\n",
       "    }\n",
       "\n",
       "    .dataframe tbody tr th {\n",
       "        vertical-align: top;\n",
       "    }\n",
       "\n",
       "    .dataframe thead th {\n",
       "        text-align: right;\n",
       "    }\n",
       "</style>\n",
       "<table border=\"1\" class=\"dataframe\">\n",
       "  <thead>\n",
       "    <tr style=\"text-align: right;\">\n",
       "      <th></th>\n",
       "      <th>Unnamed: 0</th>\n",
       "      <th>case_number</th>\n",
       "      <th>date</th>\n",
       "      <th>amount</th>\n",
       "      <th>precinct_id</th>\n",
       "      <th>council_id</th>\n",
       "      <th>tract_id</th>\n",
       "      <th>zip_id</th>\n",
       "      <th>city_id</th>\n",
       "      <th>county_id</th>\n",
       "      <th>lon</th>\n",
       "      <th>lat</th>\n",
       "    </tr>\n",
       "  </thead>\n",
       "  <tbody>\n",
       "    <tr>\n",
       "      <th>0</th>\n",
       "      <td>0</td>\n",
       "      <td>1804351H</td>\n",
       "      <td>2018-07-10</td>\n",
       "      <td>1590.0</td>\n",
       "      <td>48113-1-1</td>\n",
       "      <td>4819000-07</td>\n",
       "      <td>48113003400</td>\n",
       "      <td>75215.0</td>\n",
       "      <td>4819000.0</td>\n",
       "      <td>48113</td>\n",
       "      <td>-96.780003</td>\n",
       "      <td>32.762274</td>\n",
       "    </tr>\n",
       "    <tr>\n",
       "      <th>1</th>\n",
       "      <td>1</td>\n",
       "      <td>1804378H</td>\n",
       "      <td>2018-07-10</td>\n",
       "      <td>1217.0</td>\n",
       "      <td>48113-1-1</td>\n",
       "      <td>4819000-07</td>\n",
       "      <td>48113003700</td>\n",
       "      <td>75215.0</td>\n",
       "      <td>4819000.0</td>\n",
       "      <td>48113</td>\n",
       "      <td>-96.757373</td>\n",
       "      <td>32.767008</td>\n",
       "    </tr>\n",
       "    <tr>\n",
       "      <th>2</th>\n",
       "      <td>3</td>\n",
       "      <td>1804376H</td>\n",
       "      <td>2018-07-10</td>\n",
       "      <td>700.0</td>\n",
       "      <td>48113-1-1</td>\n",
       "      <td>4819000-07</td>\n",
       "      <td>48113002701</td>\n",
       "      <td>75210.0</td>\n",
       "      <td>4819000.0</td>\n",
       "      <td>48113</td>\n",
       "      <td>-96.743307</td>\n",
       "      <td>32.775385</td>\n",
       "    </tr>\n",
       "    <tr>\n",
       "      <th>3</th>\n",
       "      <td>4</td>\n",
       "      <td>1804375H</td>\n",
       "      <td>2018-07-10</td>\n",
       "      <td>700.0</td>\n",
       "      <td>48113-1-1</td>\n",
       "      <td>4819000-07</td>\n",
       "      <td>48113002701</td>\n",
       "      <td>75210.0</td>\n",
       "      <td>4819000.0</td>\n",
       "      <td>48113</td>\n",
       "      <td>-96.742441</td>\n",
       "      <td>32.776028</td>\n",
       "    </tr>\n",
       "    <tr>\n",
       "      <th>4</th>\n",
       "      <td>5</td>\n",
       "      <td>1804377H</td>\n",
       "      <td>2018-07-10</td>\n",
       "      <td>656.0</td>\n",
       "      <td>48113-1-1</td>\n",
       "      <td>4819000-14</td>\n",
       "      <td>48113003101</td>\n",
       "      <td>75201.0</td>\n",
       "      <td>4819000.0</td>\n",
       "      <td>48113</td>\n",
       "      <td>-96.798797</td>\n",
       "      <td>32.781548</td>\n",
       "    </tr>\n",
       "  </tbody>\n",
       "</table>\n",
       "</div>"
      ],
      "text/plain": [
       "   Unnamed: 0 case_number        date  amount precinct_id  council_id  \\\n",
       "0           0    1804351H  2018-07-10  1590.0   48113-1-1  4819000-07   \n",
       "1           1    1804378H  2018-07-10  1217.0   48113-1-1  4819000-07   \n",
       "2           3    1804376H  2018-07-10   700.0   48113-1-1  4819000-07   \n",
       "3           4    1804375H  2018-07-10   700.0   48113-1-1  4819000-07   \n",
       "4           5    1804377H  2018-07-10   656.0   48113-1-1  4819000-14   \n",
       "\n",
       "      tract_id   zip_id    city_id  county_id        lon        lat  \n",
       "0  48113003400  75215.0  4819000.0      48113 -96.780003  32.762274  \n",
       "1  48113003700  75215.0  4819000.0      48113 -96.757373  32.767008  \n",
       "2  48113002701  75210.0  4819000.0      48113 -96.743307  32.775385  \n",
       "3  48113002701  75210.0  4819000.0      48113 -96.742441  32.776028  \n",
       "4  48113003101  75201.0  4819000.0      48113 -96.798797  32.781548  "
      ]
     },
     "execution_count": 8,
     "metadata": {},
     "output_type": "execute_result"
    }
   ],
   "source": [
    "dallas.head()"
   ]
  },
  {
   "cell_type": "code",
   "execution_count": 172,
   "metadata": {},
   "outputs": [],
   "source": [
    "dallas.to_csv(\"cleaned_dallas_records.csv\")"
   ]
  },
  {
   "cell_type": "code",
   "execution_count": 9,
   "metadata": {},
   "outputs": [
    {
     "data": {
      "text/plain": [
       "array([[<matplotlib.axes._subplots.AxesSubplot object at 0x7f9849a8b7f0>]],\n",
       "      dtype=object)"
      ]
     },
     "execution_count": 9,
     "metadata": {},
     "output_type": "execute_result"
    },
    {
     "data": {
      "image/png": "[encoded data removed]",
      "text/plain": [
       "<Figure size 432x288 with 1 Axes>"
      ]
     },
     "metadata": {
      "needs_background": "light"
     },
     "output_type": "display_data"
    }
   ],
   "source": [
    "dallas.hist(column='amount', bins=20, grid=False)"
   ]
  },
  {
   "cell_type": "code",
   "execution_count": 10,
   "metadata": {},
   "outputs": [
    {
     "data": {
      "text/plain": [
       "array([[<matplotlib.axes._subplots.AxesSubplot object at 0x7f98605facd0>]],\n",
       "      dtype=object)"
      ]
     },
     "execution_count": 10,
     "metadata": {},
     "output_type": "execute_result"
    },
    {
     "data": {
      "image/png": "[encoded data removed]",
      "text/plain": [
       "<Figure size 432x288 with 1 Axes>"
      ]
     },
     "metadata": {
      "needs_background": "light"
     },
     "output_type": "display_data"
    }
   ],
   "source": [
    "from scipy import stats\n",
    "\n",
    "dallas = dallas[(np.abs(stats.zscore(dallas['amount'])) < 3)]\n",
    "dallas.hist(column='amount', bins=20, grid=False)"
   ]
  },
  {
   "cell_type": "code",
   "execution_count": 11,
   "metadata": {},
   "outputs": [],
   "source": [
    "grouped_df = dallas.groupby([\"tract_id\"])\n",
    "most_common_tracts = grouped_df['tract_id'].count().sort_values(ascending=False)"
   ]
  },
  {
   "cell_type": "code",
   "execution_count": 12,
   "metadata": {},
   "outputs": [
    {
     "data": {
      "text/plain": [
       "tract_id\n",
       "48113016607    2267\n",
       "48113019035    1799\n",
       "48113010902    1636\n",
       "48113012604    1611\n",
       "48113007811    1450\n",
       "48113010904    1441\n",
       "48113018503    1425\n",
       "48113018506    1233\n",
       "48113007202    1015\n",
       "48113012210    1008\n",
       "48113013011     878\n",
       "48113016804     875\n",
       "48113008604     873\n",
       "48113012000     866\n",
       "48113013010     859\n",
       "48113013806     835\n",
       "48113013615     818\n",
       "48113020400     815\n",
       "48113017813     814\n",
       "48113019040     809\n",
       "48113007818     793\n",
       "48113017805     791\n",
       "48113008701     783\n",
       "48113009304     780\n",
       "48113008704     771\n",
       "48113012302     753\n",
       "48113011001     750\n",
       "48113013621     750\n",
       "48113016605     750\n",
       "48113007201     749\n",
       "48113018505     724\n",
       "48113012100     714\n",
       "48113006100     713\n",
       "48113014403     699\n",
       "48113002000     696\n",
       "48113017004     692\n",
       "48113006800     687\n",
       "48113018138     673\n",
       "48113011401     670\n",
       "48113014116     668\n",
       "Name: tract_id, dtype: int64"
      ]
     },
     "execution_count": 12,
     "metadata": {},
     "output_type": "execute_result"
    }
   ],
   "source": [
    "most_common_tracts[:40]"
   ]
  },
  {
   "cell_type": "code",
   "execution_count": 13,
   "metadata": {},
   "outputs": [
    {
     "name": "stdout",
     "output_type": "stream",
     "text": [
      "48113016607\n",
      "48113019035\n",
      "48113010902\n",
      "48113012604\n",
      "48113007811\n",
      "48113010904\n",
      "48113018503\n",
      "48113018506\n",
      "48113007202\n",
      "48113012210\n",
      "48113013011\n",
      "48113016804\n",
      "48113008604\n",
      "48113012000\n",
      "48113013010\n",
      "48113013806\n",
      "48113013615\n",
      "48113020400\n",
      "48113017813\n",
      "48113019040\n",
      "48113007818\n",
      "48113017805\n",
      "48113008701\n",
      "48113009304\n",
      "48113008704\n",
      "48113012302\n",
      "48113011001\n",
      "48113013621\n",
      "48113016605\n",
      "48113007201\n",
      "48113018505\n",
      "48113012100\n",
      "48113006100\n",
      "48113014403\n",
      "48113002000\n",
      "48113017004\n",
      "48113006800\n",
      "48113018138\n",
      "48113011401\n",
      "48113014116\n"
     ]
    }
   ],
   "source": [
    "means = []\n",
    "\n",
    "for key in most_common_tracts[:40].keys():\n",
    "    t = dallas[dallas['tract_id'] == key]\n",
    "    means.append({'tract' : key, 'mean' : t['amount'].mean(), 'max' : t['amount'].max(), 'min' : t['amount'].min()})"
   ]
  },
  {
   "cell_type": "code",
   "execution_count": 14,
   "metadata": {},
   "outputs": [
    {
     "data": {
      "text/plain": [
       "<matplotlib.axes._subplots.AxesSubplot at 0x7f9809400760>"
      ]
     },
     "execution_count": 14,
     "metadata": {},
     "output_type": "execute_result"
    },
    {
     "data": {
      "image/png": "[encoded data removed]",
      "text/plain": [
       "<Figure size 432x288 with 1 Axes>"
      ]
     },
     "metadata": {
      "needs_background": "light"
     },
     "output_type": "display_data"
    }
   ],
   "source": [
    "means_df = pd.DataFrame(means)\n",
    "means_df['mean'].hist(bins=20)"
   ]
  },
  {
   "cell_type": "code",
   "execution_count": 15,
   "metadata": {},
   "outputs": [
    {
     "data": {
      "text/plain": [
       "<matplotlib.axes._subplots.AxesSubplot at 0x7f987a75fcd0>"
      ]
     },
     "execution_count": 15,
     "metadata": {},
     "output_type": "execute_result"
    },
    {
     "data": {
      "image/png": "[encoded data removed]",
      "text/plain": [
       "<Figure size 432x288 with 1 Axes>"
      ]
     },
     "metadata": {
      "needs_background": "light"
     },
     "output_type": "display_data"
    }
   ],
   "source": [
    "means_df['min'].hist(bins=20)"
   ]
  },
  {
   "cell_type": "code",
   "execution_count": 16,
   "metadata": {},
   "outputs": [],
   "source": [
    "date_grouped_df = dallas.groupby([\"date\"])"
   ]
  },
  {
   "cell_type": "code",
   "execution_count": 17,
   "metadata": {},
   "outputs": [],
   "source": [
    "dallas['week_dt'] = pd.to_datetime(dallas['date']) - pd.to_timedelta(7, unit='d')\n",
    "dallas['date_dt'] = pd.to_datetime(dallas['date'])\n",
    "dallas_week_ts = dallas.groupby([pd.Grouper(key='week_dt', freq='W-MON')]).count().reset_index().sort_values('week_dt')\n",
    "dallas_ts = dallas.groupby([pd.Grouper(key='date_dt')]).count().reset_index().sort_values('date_dt')"
   ]
  },
  {
   "cell_type": "code",
   "execution_count": 18,
   "metadata": {},
   "outputs": [
    {
     "data": {
      "text/plain": [
       "822"
      ]
     },
     "execution_count": 18,
     "metadata": {},
     "output_type": "execute_result"
    }
   ],
   "source": [
    "bcheck = pd.to_datetime('2017-01-09')\n",
    "echeck = pd.to_datetime('2017-01-17')\n",
    "\n",
    "len(dallas[(dallas['date_dt'] > bcheck) & (dallas['date_dt'] < echeck)])"
   ]
  },
  {
   "cell_type": "code",
   "execution_count": 19,
   "metadata": {},
   "outputs": [
    {
     "data": {
      "text/html": [
       "<div>\n",
       "<style scoped>\n",
       "    .dataframe tbody tr th:only-of-type {\n",
       "        vertical-align: middle;\n",
       "    }\n",
       "\n",
       "    .dataframe tbody tr th {\n",
       "        vertical-align: top;\n",
       "    }\n",
       "\n",
       "    .dataframe thead th {\n",
       "        text-align: right;\n",
       "    }\n",
       "</style>\n",
       "<table border=\"1\" class=\"dataframe\">\n",
       "  <thead>\n",
       "    <tr style=\"text-align: right;\">\n",
       "      <th></th>\n",
       "      <th>date_delta</th>\n",
       "      <th>case_number</th>\n",
       "    </tr>\n",
       "  </thead>\n",
       "  <tbody>\n",
       "    <tr>\n",
       "      <th>0</th>\n",
       "      <td>0.0</td>\n",
       "      <td>49</td>\n",
       "    </tr>\n",
       "    <tr>\n",
       "      <th>1</th>\n",
       "      <td>1.0</td>\n",
       "      <td>43</td>\n",
       "    </tr>\n",
       "    <tr>\n",
       "      <th>2</th>\n",
       "      <td>2.0</td>\n",
       "      <td>43</td>\n",
       "    </tr>\n",
       "    <tr>\n",
       "      <th>3</th>\n",
       "      <td>3.0</td>\n",
       "      <td>22</td>\n",
       "    </tr>\n",
       "    <tr>\n",
       "      <th>4</th>\n",
       "      <td>4.0</td>\n",
       "      <td>1</td>\n",
       "    </tr>\n",
       "  </tbody>\n",
       "</table>\n",
       "</div>"
      ],
      "text/plain": [
       "   date_delta  case_number\n",
       "0         0.0           49\n",
       "1         1.0           43\n",
       "2         2.0           43\n",
       "3         3.0           22\n",
       "4         4.0            1"
      ]
     },
     "execution_count": 19,
     "metadata": {},
     "output_type": "execute_result"
    }
   ],
   "source": [
    "dallas_ts['date_delta'] = (dallas_ts['date_dt'] - dallas_ts['date_dt'].min())  / np.timedelta64(1,'D')\n",
    "dallas_ts = dallas_ts[['date_delta', 'case_number']]\n",
    "dallas_ts.head()"
   ]
  },
  {
   "cell_type": "code",
   "execution_count": 20,
   "metadata": {},
   "outputs": [
    {
     "data": {
      "text/html": [
       "<div>\n",
       "<style scoped>\n",
       "    .dataframe tbody tr th:only-of-type {\n",
       "        vertical-align: middle;\n",
       "    }\n",
       "\n",
       "    .dataframe tbody tr th {\n",
       "        vertical-align: top;\n",
       "    }\n",
       "\n",
       "    .dataframe thead th {\n",
       "        text-align: right;\n",
       "    }\n",
       "</style>\n",
       "<table border=\"1\" class=\"dataframe\">\n",
       "  <thead>\n",
       "    <tr style=\"text-align: right;\">\n",
       "      <th></th>\n",
       "      <th>date_delta</th>\n",
       "      <th>case_number</th>\n",
       "    </tr>\n",
       "  </thead>\n",
       "  <tbody>\n",
       "    <tr>\n",
       "      <th>0</th>\n",
       "      <td>0.0</td>\n",
       "      <td>266</td>\n",
       "    </tr>\n",
       "    <tr>\n",
       "      <th>1</th>\n",
       "      <td>1.0</td>\n",
       "      <td>822</td>\n",
       "    </tr>\n",
       "    <tr>\n",
       "      <th>2</th>\n",
       "      <td>2.0</td>\n",
       "      <td>1274</td>\n",
       "    </tr>\n",
       "    <tr>\n",
       "      <th>3</th>\n",
       "      <td>3.0</td>\n",
       "      <td>444</td>\n",
       "    </tr>\n",
       "    <tr>\n",
       "      <th>4</th>\n",
       "      <td>4.0</td>\n",
       "      <td>218</td>\n",
       "    </tr>\n",
       "  </tbody>\n",
       "</table>\n",
       "</div>"
      ],
      "text/plain": [
       "   date_delta  case_number\n",
       "0         0.0          266\n",
       "1         1.0          822\n",
       "2         2.0         1274\n",
       "3         3.0          444\n",
       "4         4.0          218"
      ]
     },
     "execution_count": 20,
     "metadata": {},
     "output_type": "execute_result"
    }
   ],
   "source": [
    "dallas_week_ts['date_delta'] = (dallas_week_ts['week_dt'] - dallas_week_ts['week_dt'].min())  / np.timedelta64(1,'W')\n",
    "dallas_week_ts = dallas_week_ts[['date_delta', 'case_number']]\n",
    "dallas_week_ts.head()"
   ]
  },
  {
   "cell_type": "code",
   "execution_count": 21,
   "metadata": {},
   "outputs": [],
   "source": [
    "import xgboost"
   ]
  },
  {
   "cell_type": "code",
   "execution_count": 22,
   "metadata": {},
   "outputs": [],
   "source": [
    "from numpy import asarray\n",
    "from pandas import read_csv\n",
    "from pandas import DataFrame\n",
    "from pandas import concat\n",
    "from sklearn.metrics import mean_absolute_error\n",
    "from xgboost import XGBRegressor\n",
    "from matplotlib import pyplot\n",
    "\n",
    "# transform a time series dataset into a supervised learning dataset\n",
    "def series_to_supervised(data, n_in=1, n_out=1, dropnan=True):\n",
    "    n_vars = 1 if type(data) is list else data.shape[1]\n",
    "    df = DataFrame(data)\n",
    "    cols = list()\n",
    "    # input sequence (t-n, ... t-1)\n",
    "    for i in range(n_in, 0, -1):\n",
    "        cols.append(df.shift(i))\n",
    "    # forecast sequence (t, t+1, ... t+n)\n",
    "    for i in range(0, n_out):\n",
    "        cols.append(df.shift(-i))\n",
    "    # put it all together\n",
    "    agg = concat(cols, axis=1)\n",
    "    # drop rows with NaN values\n",
    "    if dropnan:\n",
    "        agg.dropna(inplace=True)\n",
    "    return agg.values\n",
    "\n",
    "# split a univariate dataset into train/test sets\n",
    "def train_test_split(data, n_test):\n",
    "    return data[:-n_test, :], data[-n_test:, :]\n",
    "\n",
    "# fit an xgboost model and make a one step prediction\n",
    "def xgboost_forecast(train, testX):\n",
    "    # transform list into array\n",
    "    train = asarray(train)\n",
    "    # split into input and output columns\n",
    "    trainX, trainy = train[:, :-1], train[:, -1]\n",
    "    # fit model\n",
    "    model = XGBRegressor(objective='reg:squarederror', n_estimators=1000)\n",
    "    model.fit(trainX, trainy)\n",
    "    # make a one-step prediction\n",
    "    yhat = model.predict(asarray([testX]))\n",
    "    return yhat[0]\n",
    "\n",
    "# walk-forward validation for univariate data\n",
    "def walk_forward_validation(data, n_test):\n",
    "    predictions = list()\n",
    "    # split dataset\n",
    "    train, test = train_test_split(data, n_test)\n",
    "    # seed history with training dataset\n",
    "    history = [x for x in train]\n",
    "    # step over each time-step in the test set\n",
    "    for i in range(len(test)):\n",
    "        # split test row into input and output columns\n",
    "        testX, testy = test[i, :-1], test[i, -1]\n",
    "        # fit model on history and make a prediction\n",
    "        yhat = xgboost_forecast(history, testX)\n",
    "        # store forecast in list of predictions\n",
    "        predictions.append(yhat)\n",
    "        # add actual observation to history for the next loop\n",
    "        history.append(test[i])\n",
    "        # summarize progress\n",
    "        print('>expected=%.1f, predicted=%.1f' % (testy, yhat))\n",
    "    # estimate prediction error\n",
    "    error = mean_absolute_error(test[:, -1], predictions)\n",
    "    return error, test[:, -1], predictions\n"
   ]
  },
  {
   "cell_type": "code",
   "execution_count": 23,
   "metadata": {},
   "outputs": [
    {
     "name": "stderr",
     "output_type": "stream",
     "text": [
      "/Users/joshnoble/opt/anaconda3/lib/python3.8/site-packages/xgboost/data.py:104: UserWarning: Use subset (sliced data) of np.ndarray is not recommended because it will generate extra copies and increase memory consumption\n",
      "  warnings.warn(\n"
     ]
    },
    {
     "name": "stdout",
     "output_type": "stream",
     "text": [
      ">expected=92.0, predicted=120.9\n",
      ">expected=89.0, predicted=68.4\n",
      ">expected=136.0, predicted=88.7\n",
      ">expected=116.0, predicted=132.0\n",
      ">expected=104.0, predicted=73.8\n",
      ">expected=111.0, predicted=91.3\n",
      ">expected=125.0, predicted=91.1\n",
      ">expected=84.0, predicted=82.4\n",
      ">expected=109.0, predicted=94.8\n",
      ">expected=94.0, predicted=108.2\n",
      ">expected=67.0, predicted=91.8\n",
      ">expected=90.0, predicted=80.2\n",
      "MAE: 21.759\n"
     ]
    },
    {
     "data": {
      "image/png": "[encoded data removed]",
      "text/plain": [
       "<Figure size 432x288 with 1 Axes>"
      ]
     },
     "metadata": {
      "needs_background": "light"
     },
     "output_type": "display_data"
    }
   ],
   "source": [
    "# load the dataset\n",
    "series = dallas_ts\n",
    "values = series.values\n",
    "# transform the time series data into supervised learning\n",
    "data = series_to_supervised(values, n_in=6)\n",
    "# evaluate\n",
    "mae, y, yhat = walk_forward_validation(data, 12)\n",
    "print('MAE: %.3f' % mae)\n",
    "# plot expected vs preducted\n",
    "pyplot.plot(y, label='Expected')\n",
    "pyplot.plot(yhat, label='Predicted')\n",
    "pyplot.legend()\n",
    "pyplot.show()"
   ]
  },
  {
   "cell_type": "code",
   "execution_count": 24,
   "metadata": {},
   "outputs": [
    {
     "name": "stderr",
     "output_type": "stream",
     "text": [
      "/Users/joshnoble/opt/anaconda3/lib/python3.8/site-packages/xgboost/data.py:104: UserWarning: Use subset (sliced data) of np.ndarray is not recommended because it will generate extra copies and increase memory consumption\n",
      "  warnings.warn(\n"
     ]
    },
    {
     "name": "stdout",
     "output_type": "stream",
     "text": [
      ">expected=344.0, predicted=262.7\n",
      ">expected=522.0, predicted=316.5\n",
      ">expected=316.0, predicted=282.5\n",
      ">expected=200.0, predicted=214.8\n",
      ">expected=285.0, predicted=220.6\n",
      ">expected=518.0, predicted=342.5\n",
      ">expected=370.0, predicted=243.3\n",
      ">expected=310.0, predicted=266.4\n",
      ">expected=164.0, predicted=251.7\n",
      ">expected=489.0, predicted=348.4\n",
      ">expected=540.0, predicted=426.3\n",
      ">expected=360.0, predicted=399.3\n",
      "MAE: 93.877\n"
     ]
    },
    {
     "data": {
      "image/png": "[encoded data removed]",
      "text/plain": [
       "<Figure size 432x288 with 1 Axes>"
      ]
     },
     "metadata": {
      "needs_background": "light"
     },
     "output_type": "display_data"
    }
   ],
   "source": [
    "# load the dataset\n",
    "series = dallas_week_ts\n",
    "values = series.values\n",
    "# transform the time series data into supervised learning\n",
    "data = series_to_supervised(values, n_in=6)\n",
    "# evaluate\n",
    "mae, y, yhat = walk_forward_validation(data, 12)\n",
    "print('MAE: %.3f' % mae)\n",
    "# plot expected vs preducted\n",
    "pyplot.plot(y, label='Expected')\n",
    "pyplot.plot(yhat, label='Predicted')\n",
    "pyplot.legend()\n",
    "pyplot.show()"
   ]
  },
  {
   "cell_type": "code",
   "execution_count": 25,
   "metadata": {},
   "outputs": [],
   "source": [
    "import pandas as pd\n",
    "from prophet import Prophet"
   ]
  },
  {
   "cell_type": "code",
   "execution_count": 29,
   "metadata": {},
   "outputs": [
    {
     "name": "stderr",
     "output_type": "stream",
     "text": [
      "INFO:numexpr.utils:Note: NumExpr detected 16 cores but \"NUMEXPR_MAX_THREADS\" not set, so enforcing safe limit of 8.\n",
      "INFO:numexpr.utils:NumExpr defaulting to 8 threads.\n",
      "INFO:prophet:Disabling yearly seasonality. Run prophet with yearly_seasonality=True to override this.\n",
      "INFO:prophet:Disabling weekly seasonality. Run prophet with weekly_seasonality=True to override this.\n",
      "INFO:prophet:Disabling daily seasonality. Run prophet with daily_seasonality=True to override this.\n"
     ]
    },
    {
     "data": {
      "text/plain": [
       "<prophet.forecaster.Prophet at 0x7f987b043ca0>"
      ]
     },
     "execution_count": 29,
     "metadata": {},
     "output_type": "execute_result"
    }
   ],
   "source": [
    "# Python\n",
    "m = Prophet()\n",
    "\n",
    "prophet_ts = dallas_ts\n",
    "prophet_ts = prophet_ts.rename(columns={\"date_delta\": \"ds\", \"case_number\": \"y\"})\n",
    "\n",
    "m.fit(prophet_ts)"
   ]
  },
  {
   "cell_type": "code",
   "execution_count": 32,
   "metadata": {},
   "outputs": [
    {
     "ename": "MemoryError",
     "evalue": "Unable to allocate 182. TiB for an array with shape (25043465573412,) and data type float64",
     "output_type": "error",
     "traceback": [
      "\u001b[0;31m---------------------------------------------------------------------------\u001b[0m",
      "\u001b[0;31mMemoryError\u001b[0m                               Traceback (most recent call last)",
      "\u001b[0;32m<ipython-input-32-6dd681020608>\u001b[0m in \u001b[0;36m<module>\u001b[0;34m\u001b[0m\n\u001b[1;32m      2\u001b[0m \u001b[0mfuture\u001b[0m\u001b[0;34m.\u001b[0m\u001b[0mtail\u001b[0m\u001b[0;34m(\u001b[0m\u001b[0;34m)\u001b[0m\u001b[0;34m\u001b[0m\u001b[0;34m\u001b[0m\u001b[0m\n\u001b[1;32m      3\u001b[0m \u001b[0;34m\u001b[0m\u001b[0m\n\u001b[0;32m----> 4\u001b[0;31m \u001b[0mforecast\u001b[0m \u001b[0;34m=\u001b[0m \u001b[0mm\u001b[0m\u001b[0;34m.\u001b[0m\u001b[0mpredict\u001b[0m\u001b[0;34m(\u001b[0m\u001b[0mfuture\u001b[0m\u001b[0;34m)\u001b[0m\u001b[0;34m\u001b[0m\u001b[0;34m\u001b[0m\u001b[0m\n\u001b[0m\u001b[1;32m      5\u001b[0m \u001b[0mforecast\u001b[0m\u001b[0;34m[\u001b[0m\u001b[0;34m[\u001b[0m\u001b[0;34m'ds'\u001b[0m\u001b[0;34m,\u001b[0m \u001b[0;34m'yhat'\u001b[0m\u001b[0;34m,\u001b[0m \u001b[0;34m'yhat_lower'\u001b[0m\u001b[0;34m,\u001b[0m \u001b[0;34m'yhat_upper'\u001b[0m\u001b[0;34m]\u001b[0m\u001b[0;34m]\u001b[0m\u001b[0;34m.\u001b[0m\u001b[0mtail\u001b[0m\u001b[0;34m(\u001b[0m\u001b[0;34m)\u001b[0m\u001b[0;34m\u001b[0m\u001b[0;34m\u001b[0m\u001b[0m\n\u001b[1;32m      6\u001b[0m \u001b[0;34m\u001b[0m\u001b[0m\n",
      "\u001b[0;32m~/opt/anaconda3/lib/python3.8/site-packages/prophet/forecaster.py\u001b[0m in \u001b[0;36mpredict\u001b[0;34m(self, df)\u001b[0m\n\u001b[1;32m   1208\u001b[0m         \u001b[0mseasonal_components\u001b[0m \u001b[0;34m=\u001b[0m \u001b[0mself\u001b[0m\u001b[0;34m.\u001b[0m\u001b[0mpredict_seasonal_components\u001b[0m\u001b[0;34m(\u001b[0m\u001b[0mdf\u001b[0m\u001b[0;34m)\u001b[0m\u001b[0;34m\u001b[0m\u001b[0;34m\u001b[0m\u001b[0m\n\u001b[1;32m   1209\u001b[0m         \u001b[0;32mif\u001b[0m \u001b[0mself\u001b[0m\u001b[0;34m.\u001b[0m\u001b[0muncertainty_samples\u001b[0m\u001b[0;34m:\u001b[0m\u001b[0;34m\u001b[0m\u001b[0;34m\u001b[0m\u001b[0m\n\u001b[0;32m-> 1210\u001b[0;31m             \u001b[0mintervals\u001b[0m \u001b[0;34m=\u001b[0m \u001b[0mself\u001b[0m\u001b[0;34m.\u001b[0m\u001b[0mpredict_uncertainty\u001b[0m\u001b[0;34m(\u001b[0m\u001b[0mdf\u001b[0m\u001b[0;34m)\u001b[0m\u001b[0;34m\u001b[0m\u001b[0;34m\u001b[0m\u001b[0m\n\u001b[0m\u001b[1;32m   1211\u001b[0m         \u001b[0;32melse\u001b[0m\u001b[0;34m:\u001b[0m\u001b[0;34m\u001b[0m\u001b[0;34m\u001b[0m\u001b[0m\n\u001b[1;32m   1212\u001b[0m             \u001b[0mintervals\u001b[0m \u001b[0;34m=\u001b[0m \u001b[0;32mNone\u001b[0m\u001b[0;34m\u001b[0m\u001b[0;34m\u001b[0m\u001b[0m\n",
      "\u001b[0;32m~/opt/anaconda3/lib/python3.8/site-packages/prophet/forecaster.py\u001b[0m in \u001b[0;36mpredict_uncertainty\u001b[0;34m(self, df)\u001b[0m\n\u001b[1;32m   1439\u001b[0m         \u001b[0mDataframe\u001b[0m \u001b[0;32mwith\u001b[0m \u001b[0muncertainty\u001b[0m \u001b[0mintervals\u001b[0m\u001b[0;34m.\u001b[0m\u001b[0;34m\u001b[0m\u001b[0;34m\u001b[0m\u001b[0m\n\u001b[1;32m   1440\u001b[0m         \"\"\"\n\u001b[0;32m-> 1441\u001b[0;31m         \u001b[0msim_values\u001b[0m \u001b[0;34m=\u001b[0m \u001b[0mself\u001b[0m\u001b[0;34m.\u001b[0m\u001b[0msample_posterior_predictive\u001b[0m\u001b[0;34m(\u001b[0m\u001b[0mdf\u001b[0m\u001b[0;34m)\u001b[0m\u001b[0;34m\u001b[0m\u001b[0;34m\u001b[0m\u001b[0m\n\u001b[0m\u001b[1;32m   1442\u001b[0m \u001b[0;34m\u001b[0m\u001b[0m\n\u001b[1;32m   1443\u001b[0m         \u001b[0mlower_p\u001b[0m \u001b[0;34m=\u001b[0m \u001b[0;36m100\u001b[0m \u001b[0;34m*\u001b[0m \u001b[0;34m(\u001b[0m\u001b[0;36m1.0\u001b[0m \u001b[0;34m-\u001b[0m \u001b[0mself\u001b[0m\u001b[0;34m.\u001b[0m\u001b[0minterval_width\u001b[0m\u001b[0;34m)\u001b[0m \u001b[0;34m/\u001b[0m \u001b[0;36m2\u001b[0m\u001b[0;34m\u001b[0m\u001b[0;34m\u001b[0m\u001b[0m\n",
      "\u001b[0;32m~/opt/anaconda3/lib/python3.8/site-packages/prophet/forecaster.py\u001b[0m in \u001b[0;36msample_posterior_predictive\u001b[0;34m(self, df)\u001b[0m\n\u001b[1;32m   1392\u001b[0m         \u001b[0;32mfor\u001b[0m \u001b[0mi\u001b[0m \u001b[0;32min\u001b[0m \u001b[0mrange\u001b[0m\u001b[0;34m(\u001b[0m\u001b[0mn_iterations\u001b[0m\u001b[0;34m)\u001b[0m\u001b[0;34m:\u001b[0m\u001b[0;34m\u001b[0m\u001b[0;34m\u001b[0m\u001b[0m\n\u001b[1;32m   1393\u001b[0m             \u001b[0;32mfor\u001b[0m \u001b[0m_j\u001b[0m \u001b[0;32min\u001b[0m \u001b[0mrange\u001b[0m\u001b[0;34m(\u001b[0m\u001b[0msamp_per_iter\u001b[0m\u001b[0;34m)\u001b[0m\u001b[0;34m:\u001b[0m\u001b[0;34m\u001b[0m\u001b[0;34m\u001b[0m\u001b[0m\n\u001b[0;32m-> 1394\u001b[0;31m                 sim = self.sample_model(\n\u001b[0m\u001b[1;32m   1395\u001b[0m                     \u001b[0mdf\u001b[0m\u001b[0;34m=\u001b[0m\u001b[0mdf\u001b[0m\u001b[0;34m,\u001b[0m\u001b[0;34m\u001b[0m\u001b[0;34m\u001b[0m\u001b[0m\n\u001b[1;32m   1396\u001b[0m                     \u001b[0mseasonal_features\u001b[0m\u001b[0;34m=\u001b[0m\u001b[0mseasonal_features\u001b[0m\u001b[0;34m,\u001b[0m\u001b[0;34m\u001b[0m\u001b[0;34m\u001b[0m\u001b[0m\n",
      "\u001b[0;32m~/opt/anaconda3/lib/python3.8/site-packages/prophet/forecaster.py\u001b[0m in \u001b[0;36msample_model\u001b[0;34m(self, df, seasonal_features, iteration, s_a, s_m)\u001b[0m\n\u001b[1;32m   1468\u001b[0m         \u001b[0mDataframe\u001b[0m \u001b[0;32mwith\u001b[0m \u001b[0mtrend\u001b[0m \u001b[0;32mand\u001b[0m \u001b[0myhat\u001b[0m\u001b[0;34m,\u001b[0m \u001b[0meach\u001b[0m \u001b[0mlike\u001b[0m \u001b[0mdf\u001b[0m\u001b[0;34m[\u001b[0m\u001b[0;34m't'\u001b[0m\u001b[0;34m]\u001b[0m\u001b[0;34m.\u001b[0m\u001b[0;34m\u001b[0m\u001b[0;34m\u001b[0m\u001b[0m\n\u001b[1;32m   1469\u001b[0m         \"\"\"\n\u001b[0;32m-> 1470\u001b[0;31m         \u001b[0mtrend\u001b[0m \u001b[0;34m=\u001b[0m \u001b[0mself\u001b[0m\u001b[0;34m.\u001b[0m\u001b[0msample_predictive_trend\u001b[0m\u001b[0;34m(\u001b[0m\u001b[0mdf\u001b[0m\u001b[0;34m,\u001b[0m \u001b[0miteration\u001b[0m\u001b[0;34m)\u001b[0m\u001b[0;34m\u001b[0m\u001b[0;34m\u001b[0m\u001b[0m\n\u001b[0m\u001b[1;32m   1471\u001b[0m \u001b[0;34m\u001b[0m\u001b[0m\n\u001b[1;32m   1472\u001b[0m         \u001b[0mbeta\u001b[0m \u001b[0;34m=\u001b[0m \u001b[0mself\u001b[0m\u001b[0;34m.\u001b[0m\u001b[0mparams\u001b[0m\u001b[0;34m[\u001b[0m\u001b[0;34m'beta'\u001b[0m\u001b[0;34m]\u001b[0m\u001b[0;34m[\u001b[0m\u001b[0miteration\u001b[0m\u001b[0;34m]\u001b[0m\u001b[0;34m\u001b[0m\u001b[0;34m\u001b[0m\u001b[0m\n",
      "\u001b[0;32m~/opt/anaconda3/lib/python3.8/site-packages/prophet/forecaster.py\u001b[0m in \u001b[0;36msample_predictive_trend\u001b[0;34m(self, df, iteration)\u001b[0m\n\u001b[1;32m   1509\u001b[0m             \u001b[0mn_changes\u001b[0m \u001b[0;34m=\u001b[0m \u001b[0;36m0\u001b[0m\u001b[0;34m\u001b[0m\u001b[0;34m\u001b[0m\u001b[0m\n\u001b[1;32m   1510\u001b[0m         \u001b[0;32mif\u001b[0m \u001b[0mn_changes\u001b[0m \u001b[0;34m>\u001b[0m \u001b[0;36m0\u001b[0m\u001b[0;34m:\u001b[0m\u001b[0;34m\u001b[0m\u001b[0;34m\u001b[0m\u001b[0m\n\u001b[0;32m-> 1511\u001b[0;31m             \u001b[0mchangepoint_ts_new\u001b[0m \u001b[0;34m=\u001b[0m \u001b[0;36m1\u001b[0m \u001b[0;34m+\u001b[0m \u001b[0mnp\u001b[0m\u001b[0;34m.\u001b[0m\u001b[0mrandom\u001b[0m\u001b[0;34m.\u001b[0m\u001b[0mrand\u001b[0m\u001b[0;34m(\u001b[0m\u001b[0mn_changes\u001b[0m\u001b[0;34m)\u001b[0m \u001b[0;34m*\u001b[0m \u001b[0;34m(\u001b[0m\u001b[0mT\u001b[0m \u001b[0;34m-\u001b[0m \u001b[0;36m1\u001b[0m\u001b[0;34m)\u001b[0m\u001b[0;34m\u001b[0m\u001b[0;34m\u001b[0m\u001b[0m\n\u001b[0m\u001b[1;32m   1512\u001b[0m             \u001b[0mchangepoint_ts_new\u001b[0m\u001b[0;34m.\u001b[0m\u001b[0msort\u001b[0m\u001b[0;34m(\u001b[0m\u001b[0;34m)\u001b[0m\u001b[0;34m\u001b[0m\u001b[0;34m\u001b[0m\u001b[0m\n\u001b[1;32m   1513\u001b[0m         \u001b[0;32melse\u001b[0m\u001b[0;34m:\u001b[0m\u001b[0;34m\u001b[0m\u001b[0;34m\u001b[0m\u001b[0m\n",
      "\u001b[0;32mmtrand.pyx\u001b[0m in \u001b[0;36mnumpy.random.mtrand.RandomState.rand\u001b[0;34m()\u001b[0m\n",
      "\u001b[0;32mmtrand.pyx\u001b[0m in \u001b[0;36mnumpy.random.mtrand.RandomState.random_sample\u001b[0;34m()\u001b[0m\n",
      "\u001b[0;32m_common.pyx\u001b[0m in \u001b[0;36mnumpy.random._common.double_fill\u001b[0;34m()\u001b[0m\n",
      "\u001b[0;31mMemoryError\u001b[0m: Unable to allocate 182. TiB for an array with shape (25043465573412,) and data type float64"
     ]
    }
   ],
   "source": [
    "future = m.make_future_dataframe(periods=20)\n",
    "future.tail()\n",
    "\n",
    "forecast = m.predict(future)\n",
    "forecast[['ds', 'yhat', 'yhat_lower', 'yhat_upper']].tail()\n",
    "\n",
    "fig1 = m.plot(forecast)"
   ]
  }
 ],
 "metadata": {
  "kernelspec": {
   "display_name": "Python 3",
   "language": "python",
   "name": "python3"
  },
  "language_info": {
   "codemirror_mode": {
    "name": "ipython",
    "version": 3
   },
   "file_extension": ".py",
   "mimetype": "text/x-python",
   "name": "python",
   "nbconvert_exporter": "python",
   "pygments_lexer": "ipython3",
   "version": "3.8.3"
  }
 },
 "nbformat": 4,
 "nbformat_minor": 4
}
